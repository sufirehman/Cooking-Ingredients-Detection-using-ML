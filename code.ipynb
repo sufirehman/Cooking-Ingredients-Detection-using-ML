{
  "cells": [
    {
      "attachments": {},
      "cell_type": "markdown",
      "metadata": {
        "id": "C6qaxvyAt_tZ"
      },
      "source": [
        "**IR PROJECT: WHAT'S COOKING ?**\n",
        "- By Sufiyan Ur Rehman\n"
      ]
    },
    {
      "cell_type": "code",
      "execution_count": 1,
      "metadata": {
        "_cell_guid": "b1076dfc-b9ad-4769-8c92-a6c4dae69d19",
        "_uuid": "8f2839f25d086af736a60e9eeb907d3b93b6e0e5",
        "id": "xj-UE77Fj-xO",
        "trusted": true
      },
      "outputs": [],
      "source": [
        "import numpy as np\n",
        "import pandas as pd\n"
      ]
    },
    {
      "cell_type": "code",
      "execution_count": 2,
      "metadata": {
        "id": "Eh8A8kv8j-xR",
        "trusted": true
      },
      "outputs": [],
      "source": [
        "import json\n",
        "\n",
        "with open('train.json','r') as f:\n",
        "    train_data = json.load(f)\n",
        "with open('test.json','r') as f:\n",
        "    test_data = json.load(f)"
      ]
    },
    {
      "cell_type": "code",
      "execution_count": 3,
      "metadata": {
        "id": "at58UTS6j-xS",
        "trusted": true
      },
      "outputs": [],
      "source": [
        "train_data=pd.DataFrame(train_data)"
      ]
    },
    {
      "cell_type": "code",
      "execution_count": 4,
      "metadata": {
        "id": "6_KNenXWj-xS",
        "trusted": true
      },
      "outputs": [],
      "source": [
        "test_data=pd.DataFrame(test_data)"
      ]
    },
    {
      "cell_type": "code",
      "execution_count": 5,
      "metadata": {
        "colab": {
          "base_uri": "https://localhost:8080/",
          "height": 206
        },
        "id": "ANy8eheRj-xT",
        "outputId": "0d3dd820-b165-430f-ad03-502b31b4768c",
        "trusted": true
      },
      "outputs": [
        {
          "data": {
            "text/html": [
              "<div>\n",
              "<style scoped>\n",
              "    .dataframe tbody tr th:only-of-type {\n",
              "        vertical-align: middle;\n",
              "    }\n",
              "\n",
              "    .dataframe tbody tr th {\n",
              "        vertical-align: top;\n",
              "    }\n",
              "\n",
              "    .dataframe thead th {\n",
              "        text-align: right;\n",
              "    }\n",
              "</style>\n",
              "<table border=\"1\" class=\"dataframe\">\n",
              "  <thead>\n",
              "    <tr style=\"text-align: right;\">\n",
              "      <th></th>\n",
              "      <th>id</th>\n",
              "      <th>cuisine</th>\n",
              "      <th>ingredients</th>\n",
              "    </tr>\n",
              "  </thead>\n",
              "  <tbody>\n",
              "    <tr>\n",
              "      <th>0</th>\n",
              "      <td>10259</td>\n",
              "      <td>greek</td>\n",
              "      <td>[romaine lettuce, black olives, grape tomatoes...</td>\n",
              "    </tr>\n",
              "    <tr>\n",
              "      <th>1</th>\n",
              "      <td>25693</td>\n",
              "      <td>southern_us</td>\n",
              "      <td>[plain flour, ground pepper, salt, tomatoes, g...</td>\n",
              "    </tr>\n",
              "    <tr>\n",
              "      <th>2</th>\n",
              "      <td>20130</td>\n",
              "      <td>filipino</td>\n",
              "      <td>[eggs, pepper, salt, mayonaise, cooking oil, g...</td>\n",
              "    </tr>\n",
              "    <tr>\n",
              "      <th>3</th>\n",
              "      <td>22213</td>\n",
              "      <td>indian</td>\n",
              "      <td>[water, vegetable oil, wheat, salt]</td>\n",
              "    </tr>\n",
              "    <tr>\n",
              "      <th>4</th>\n",
              "      <td>13162</td>\n",
              "      <td>indian</td>\n",
              "      <td>[black pepper, shallots, cornflour, cayenne pe...</td>\n",
              "    </tr>\n",
              "  </tbody>\n",
              "</table>\n",
              "</div>"
            ],
            "text/plain": [
              "      id      cuisine                                        ingredients\n",
              "0  10259        greek  [romaine lettuce, black olives, grape tomatoes...\n",
              "1  25693  southern_us  [plain flour, ground pepper, salt, tomatoes, g...\n",
              "2  20130     filipino  [eggs, pepper, salt, mayonaise, cooking oil, g...\n",
              "3  22213       indian                [water, vegetable oil, wheat, salt]\n",
              "4  13162       indian  [black pepper, shallots, cornflour, cayenne pe..."
            ]
          },
          "execution_count": 5,
          "metadata": {},
          "output_type": "execute_result"
        }
      ],
      "source": [
        "train_data.head()"
      ]
    },
    {
      "cell_type": "code",
      "execution_count": 6,
      "metadata": {
        "colab": {
          "base_uri": "https://localhost:8080/"
        },
        "id": "uz-gPuSJj-xT",
        "outputId": "a4f70be3-db76-45e6-9643-3e9564a7725f",
        "trusted": true
      },
      "outputs": [
        {
          "name": "stdout",
          "output_type": "stream",
          "text": [
            "<class 'pandas.core.frame.DataFrame'>\n",
            "RangeIndex: 39774 entries, 0 to 39773\n",
            "Data columns (total 3 columns):\n",
            " #   Column       Non-Null Count  Dtype \n",
            "---  ------       --------------  ----- \n",
            " 0   id           39774 non-null  int64 \n",
            " 1   cuisine      39774 non-null  object\n",
            " 2   ingredients  39774 non-null  object\n",
            "dtypes: int64(1), object(2)\n",
            "memory usage: 932.3+ KB\n"
          ]
        }
      ],
      "source": [
        "#Data Exploration\n",
        "train_data.info()"
      ]
    },
    {
      "cell_type": "code",
      "execution_count": 7,
      "metadata": {
        "colab": {
          "base_uri": "https://localhost:8080/"
        },
        "id": "CquUwmSRj-xU",
        "outputId": "1e98bb82-7f32-4d20-bba3-5ce8f7b7c948",
        "trusted": true
      },
      "outputs": [
        {
          "name": "stdout",
          "output_type": "stream",
          "text": [
            "<class 'pandas.core.frame.DataFrame'>\n",
            "RangeIndex: 9944 entries, 0 to 9943\n",
            "Data columns (total 2 columns):\n",
            " #   Column       Non-Null Count  Dtype \n",
            "---  ------       --------------  ----- \n",
            " 0   id           9944 non-null   int64 \n",
            " 1   ingredients  9944 non-null   object\n",
            "dtypes: int64(1), object(1)\n",
            "memory usage: 155.5+ KB\n"
          ]
        }
      ],
      "source": [
        "test_data.info()"
      ]
    },
    {
      "cell_type": "code",
      "execution_count": 8,
      "metadata": {
        "colab": {
          "base_uri": "https://localhost:8080/"
        },
        "id": "ZrOGSYQtj-xU",
        "outputId": "36633b72-43d2-4ae8-eee5-6feb62c5165c",
        "trusted": true
      },
      "outputs": [
        {
          "data": {
            "text/plain": [
              "array(['greek', 'southern_us', 'filipino', 'indian', 'jamaican',\n",
              "       'spanish', 'italian', 'mexican', 'chinese', 'british', 'thai',\n",
              "       'vietnamese', 'cajun_creole', 'brazilian', 'french', 'japanese',\n",
              "       'irish', 'korean', 'moroccan', 'russian'], dtype=object)"
            ]
          },
          "execution_count": 8,
          "metadata": {},
          "output_type": "execute_result"
        }
      ],
      "source": [
        "train_data['cuisine'].unique()"
      ]
    },
    {
      "cell_type": "code",
      "execution_count": 9,
      "metadata": {
        "id": "eamXXIo0j-xV",
        "trusted": true
      },
      "outputs": [],
      "source": [
        "import random\n",
        "def random_col(num_col):\n",
        "    colors = []\n",
        "    for i in range(num_col):        \n",
        "        colors.append(\"#\"+''.join([random.choice('0123456789ABCDEF') for j in range(6)]))\n",
        "    return colors"
      ]
    },
    {
      "cell_type": "code",
      "execution_count": 10,
      "metadata": {
        "colab": {
          "base_uri": "https://localhost:8080/",
          "height": 444
        },
        "id": "Nnws4kVjj-xW",
        "outputId": "f4d868ed-2b34-45d2-d4f7-6ceb727f82de",
        "trusted": true
      },
      "outputs": [
        {
          "data": {
            "text/plain": [
              "<AxesSubplot:>"
            ]
          },
          "execution_count": 10,
          "metadata": {},
          "output_type": "execute_result"
        },
        {
          "data": {
            "image/png": "[encoded data removed]",
            "text/plain": [
              "<Figure size 1152x432 with 1 Axes>"
            ]
          },
          "metadata": {
            "needs_background": "light"
          },
          "output_type": "display_data"
        }
      ],
      "source": [
        "train_data['cuisine'].value_counts().plot.bar(color=random_col(20),figsize=(16,6))"
      ]
    },
    {
      "cell_type": "code",
      "execution_count": 11,
      "metadata": {
        "colab": {
          "base_uri": "https://localhost:8080/"
        },
        "id": "GYw6D6Ghj-xW",
        "outputId": "8461049a-a38c-4920-b5b4-23a6b438707a",
        "trusted": true
      },
      "outputs": [
        {
          "name": "stdout",
          "output_type": "stream",
          "text": [
            "[('salt', 18049), ('onions', 7972), ('olive oil', 7972), ('water', 7457), ('garlic', 7380), ('sugar', 6434), ('garlic cloves', 6237), ('butter', 4848), ('ground black pepper', 4785), ('all-purpose flour', 4632), ('pepper', 4438), ('vegetable oil', 4385), ('eggs', 3388), ('soy sauce', 3296), ('kosher salt', 3113), ('green onions', 3078), ('tomatoes', 3058), ('large eggs', 2948), ('carrots', 2814), ('unsalted butter', 2782)]\n"
          ]
        }
      ],
      "source": [
        "##most commonly used ingredients.\n",
        "from collections import Counter\n",
        "most_commoning = Counter([item for lists in train_data['ingredients'] for item in lists])\n",
        "print(most_commoning.most_common(20))"
      ]
    },
    {
      "cell_type": "code",
      "execution_count": 12,
      "metadata": {
        "colab": {
          "base_uri": "https://localhost:8080/",
          "height": 569
        },
        "id": "YAOgxIgFj-xX",
        "outputId": "371fd816-f5f5-48cd-d572-7849e1f94dba",
        "trusted": true
      },
      "outputs": [
        {
          "data": {
            "text/plain": [
              "<AxesSubplot:xlabel='tot_count', ylabel='ingredients'>"
            ]
          },
          "execution_count": 12,
          "metadata": {},
          "output_type": "execute_result"
        },
        {
          "data": {
            "image/png": "[encoded data removed]",
            "text/plain": [
              "<Figure size 504x648 with 1 Axes>"
            ]
          },
          "metadata": {
            "needs_background": "light"
          },
          "output_type": "display_data"
        }
      ],
      "source": [
        "##plotting a graph on most common ingredients.\n",
        "import matplotlib.pyplot as plt\n",
        "import seaborn as sns\n",
        "ing_df = pd.DataFrame(most_commoning.most_common(20))\n",
        "ing_df.columns = ['ingredients','tot_count']\n",
        "plt.figure(figsize=(7,9))\n",
        "sns.barplot(x='tot_count',y='ingredients',data=ing_df)"
      ]
    },
    {
      "cell_type": "code",
      "execution_count": 14,
      "metadata": {
        "id": "NBgmD33Oj-xY",
        "trusted": true
      },
      "outputs": [
        {
          "ename": "ModuleNotFoundError",
          "evalue": "No module named 'xgboost'",
          "output_type": "error",
          "traceback": [
            "\u001b[1;31m---------------------------------------------------------------------------\u001b[0m",
            "\u001b[1;31mModuleNotFoundError\u001b[0m                       Traceback (most recent call last)",
            "\u001b[1;32md:\\semester 6\\IR\\Project\\Whats Cooking\\code.ipynb Cell 14'\u001b[0m in \u001b[0;36m<module>\u001b[1;34m\u001b[0m\n\u001b[0;32m      <a href='vscode-notebook-cell:/d%3A/semester%206/IR/Project/Whats%20Cooking/code.ipynb#ch0000014?line=7'>8</a>\u001b[0m \u001b[39mfrom\u001b[39;00m \u001b[39mnltk\u001b[39;00m\u001b[39m.\u001b[39;00m\u001b[39mcorpus\u001b[39;00m \u001b[39mimport\u001b[39;00m stopwords\n\u001b[0;32m      <a href='vscode-notebook-cell:/d%3A/semester%206/IR/Project/Whats%20Cooking/code.ipynb#ch0000014?line=8'>9</a>\u001b[0m \u001b[39mfrom\u001b[39;00m \u001b[39mnltk\u001b[39;00m\u001b[39m.\u001b[39;00m\u001b[39mstem\u001b[39;00m \u001b[39mimport\u001b[39;00m WordNetLemmatizer\n\u001b[1;32m---> <a href='vscode-notebook-cell:/d%3A/semester%206/IR/Project/Whats%20Cooking/code.ipynb#ch0000014?line=10'>11</a>\u001b[0m \u001b[39mimport\u001b[39;00m \u001b[39mxgboost\u001b[39;00m \u001b[39mas\u001b[39;00m \u001b[39mxgb\u001b[39;00m\n\u001b[0;32m     <a href='vscode-notebook-cell:/d%3A/semester%206/IR/Project/Whats%20Cooking/code.ipynb#ch0000014?line=11'>12</a>\u001b[0m \u001b[39mfrom\u001b[39;00m \u001b[39msklearn\u001b[39;00m\u001b[39m.\u001b[39;00m\u001b[39mfeature_extraction\u001b[39;00m\u001b[39m.\u001b[39;00m\u001b[39mtext\u001b[39;00m \u001b[39mimport\u001b[39;00m CountVectorizer,TfidfVectorizer\n\u001b[0;32m     <a href='vscode-notebook-cell:/d%3A/semester%206/IR/Project/Whats%20Cooking/code.ipynb#ch0000014?line=12'>13</a>\u001b[0m \u001b[39mfrom\u001b[39;00m \u001b[39msklearn\u001b[39;00m\u001b[39m.\u001b[39;00m\u001b[39mnaive_bayes\u001b[39;00m \u001b[39mimport\u001b[39;00m MultinomialNB\n",
            "\u001b[1;31mModuleNotFoundError\u001b[0m: No module named 'xgboost'"
          ]
        }
      ],
      "source": [
        "import pandas as pd\n",
        "import numpy as np\n",
        "#from wordcloud import WordCloud\n",
        "import re\n",
        "import string\n",
        "import nltk\n",
        "from nltk.corpus import stopwords\n",
        "from nltk.stem import WordNetLemmatizer\n",
        "import xgboost as xgb\n",
        "from sklearn.feature_extraction.text import CountVectorizer,TfidfVectorizer\n",
        "from sklearn.naive_bayes import MultinomialNB\n",
        "from sklearn.linear_model import LogisticRegression\n",
        "from sklearn import model_selection\n",
        "from sklearn.preprocessing import LabelEncoder\n",
        "from sklearn.model_selection import train_test_split"
      ]
    },
    {
      "cell_type": "code",
      "execution_count": null,
      "metadata": {
        "colab": {
          "base_uri": "https://localhost:8080/"
        },
        "id": "TtTzstazj-xY",
        "outputId": "3fa974f0-5495-43f1-b53d-dd570ef265b2",
        "trusted": true
      },
      "outputs": [
        {
          "name": "stdout",
          "output_type": "stream",
          "text": [
            "[nltk_data] Downloading package stopwords to /root/nltk_data...\n",
            "[nltk_data]   Unzipping corpora/stopwords.zip.\n"
          ]
        }
      ],
      "source": [
        "from nltk.corpus import stopwords\n",
        "import nltk\n",
        "nltk.download('stopwords')\n",
        "from nltk.stem import PorterStemmer\n",
        "stop_words = set(stopwords.words('english'))\n",
        "stemer = PorterStemmer()"
      ]
    },
    {
      "cell_type": "code",
      "execution_count": null,
      "metadata": {
        "colab": {
          "base_uri": "https://localhost:8080/"
        },
        "id": "a-mQF-XDj-xZ",
        "outputId": "aa598ccb-ea5d-4a19-dac1-08811c7164da",
        "trusted": true
      },
      "outputs": [
        {
          "name": "stdout",
          "output_type": "stream",
          "text": [
            "[nltk_data] Downloading package wordnet to /root/nltk_data...\n",
            "[nltk_data]   Unzipping corpora/wordnet.zip.\n"
          ]
        }
      ],
      "source": [
        "import nltk\n",
        "import string\n",
        "punctuations = string.punctuation\n",
        "nltk.download('wordnet')\n",
        "from nltk.stem.wordnet import WordNetLemmatizer\n",
        "import re\n",
        "#import unicodedata\n",
        "lmz = WordNetLemmatizer()\n",
        " \n",
        "def clean(text):\n",
        " \n",
        " \n",
        " txt = str(text).lower()\n",
        " txt = \"\".join(c for c in txt if c not in punctuations) \n",
        " words = txt.split() \n",
        " words = [i for i in words if i.isalpha()] \n",
        " pattern = '[0-9]'\n",
        " words = [re.sub(pattern, '', i) for i in words]\n",
        " words = [re.sub(r'[^a-zA-Z]+$', '', i) for i in words] \n",
        " \n",
        " clean_txt = \" \".join(words) \n",
        " return clean_txt"
      ]
    },
    {
      "cell_type": "code",
      "execution_count": null,
      "metadata": {
        "id": "y2eJjAGFj-xZ",
        "trusted": true
      },
      "outputs": [],
      "source": [
        "##using stemming in preprocessing\n",
        "def clean_stem(text):\n",
        " \n",
        " \n",
        " txt = str(text).lower()\n",
        " txt = \"\".join(c for c in txt if c not in punctuations) \n",
        " words = txt.split() \n",
        " words = [i for i in words if i.isalpha()] \n",
        " pattern = '[0-9]'\n",
        " words = [re.sub(pattern, '', i) for i in words]\n",
        " words = [re.sub(r'[^a-zA-Z]+$', '', i) for i in words] \n",
        " words = \" \".join(words) \n",
        " words=[stemer.stem(word) for word in words.split(\" \") if words not in stop_words]\n",
        " \n",
        " clean_txt = \" \".join(words) \n",
        " return clean_txt\n",
        "\n"
      ]
    },
    {
      "cell_type": "code",
      "execution_count": null,
      "metadata": {
        "id": "inVkGdgej-xa",
        "trusted": true
      },
      "outputs": [],
      "source": [
        "#Applying the cleaning function to both test and train datasets\n",
        "train_data['clean_text'] = train_data['ingredients'].apply(lambda x: clean(x))\n",
        "train_data['cleanstem_text']=train_data['ingredients'].apply(lambda x:clean_stem(x))\n",
        "test_data['clean_text'] = test_data['ingredients'].apply(lambda x: clean(x))"
      ]
    },
    {
      "cell_type": "code",
      "execution_count": null,
      "metadata": {
        "colab": {
          "base_uri": "https://localhost:8080/",
          "height": 302
        },
        "id": "Qz5RjA2Fj-xa",
        "outputId": "8e4647c3-a1d2-4535-d6b5-778b8be1069a",
        "trusted": true
      },
      "outputs": [
        {
          "data": {
            "text/html": [
              "\n",
              "  <div id=\"df-563cab3f-b6dc-4486-abb7-e8530355afe1\">\n",
              "    <div class=\"colab-df-container\">\n",
              "      <div>\n",
              "<style scoped>\n",
              "    .dataframe tbody tr th:only-of-type {\n",
              "        vertical-align: middle;\n",
              "    }\n",
              "\n",
              "    .dataframe tbody tr th {\n",
              "        vertical-align: top;\n",
              "    }\n",
              "\n",
              "    .dataframe thead th {\n",
              "        text-align: right;\n",
              "    }\n",
              "</style>\n",
              "<table border=\"1\" class=\"dataframe\">\n",
              "  <thead>\n",
              "    <tr style=\"text-align: right;\">\n",
              "      <th></th>\n",
              "      <th>id</th>\n",
              "      <th>cuisine</th>\n",
              "      <th>ingredients</th>\n",
              "      <th>clean_text</th>\n",
              "      <th>cleanstem_text</th>\n",
              "    </tr>\n",
              "  </thead>\n",
              "  <tbody>\n",
              "    <tr>\n",
              "      <th>0</th>\n",
              "      <td>10259</td>\n",
              "      <td>greek</td>\n",
              "      <td>[romaine lettuce, black olives, grape tomatoes...</td>\n",
              "      <td>romaine lettuce black olives grape tomatoes ga...</td>\n",
              "      <td>romain lettuc black oliv grape tomato garlic p...</td>\n",
              "    </tr>\n",
              "    <tr>\n",
              "      <th>1</th>\n",
              "      <td>25693</td>\n",
              "      <td>southern_us</td>\n",
              "      <td>[plain flour, ground pepper, salt, tomatoes, g...</td>\n",
              "      <td>plain flour ground pepper salt tomatoes ground...</td>\n",
              "      <td>plain flour ground pepper salt tomato ground b...</td>\n",
              "    </tr>\n",
              "    <tr>\n",
              "      <th>2</th>\n",
              "      <td>20130</td>\n",
              "      <td>filipino</td>\n",
              "      <td>[eggs, pepper, salt, mayonaise, cooking oil, g...</td>\n",
              "      <td>eggs pepper salt mayonaise cooking oil green c...</td>\n",
              "      <td>egg pepper salt mayonais cook oil green chili ...</td>\n",
              "    </tr>\n",
              "    <tr>\n",
              "      <th>3</th>\n",
              "      <td>22213</td>\n",
              "      <td>indian</td>\n",
              "      <td>[water, vegetable oil, wheat, salt]</td>\n",
              "      <td>water vegetable oil wheat salt</td>\n",
              "      <td>water veget oil wheat salt</td>\n",
              "    </tr>\n",
              "    <tr>\n",
              "      <th>4</th>\n",
              "      <td>13162</td>\n",
              "      <td>indian</td>\n",
              "      <td>[black pepper, shallots, cornflour, cayenne pe...</td>\n",
              "      <td>black pepper shallots cornflour cayenne pepper...</td>\n",
              "      <td>black pepper shallot cornflour cayenn pepper o...</td>\n",
              "    </tr>\n",
              "  </tbody>\n",
              "</table>\n",
              "</div>\n",
              "      <button class=\"colab-df-convert\" onclick=\"convertToInteractive('df-563cab3f-b6dc-4486-abb7-e8530355afe1')\"\n",
              "              title=\"Convert this dataframe to an interactive table.\"\n",
              "              style=\"display:none;\">\n",
              "        \n",
              "  <svg xmlns=\"http://www.w3.org/2000/svg\" height=\"24px\"viewBox=\"0 0 24 24\"\n",
              "       width=\"24px\">\n",
              "    <path d=\"M0 0h24v24H0V0z\" fill=\"none\"/>\n",
              "    <path d=\"M18.56 5.44l.94 2.06.94-2.06 2.06-.94-2.06-.94-.94-2.06-.94 2.06-2.06.94zm-11 1L8.5 8.5l.94-2.06 2.06-.94-2.06-.94L8.5 2.5l-.94 2.06-2.06.94zm10 10l.94 2.06.94-2.06 2.06-.94-2.06-.94-.94-2.06-.94 2.06-2.06.94z\"/><path d=\"M17.41 7.96l-1.37-1.37c-.4-.4-.92-.59-1.43-.59-.52 0-1.04.2-1.43.59L10.3 9.45l-7.72 7.72c-.78.78-.78 2.05 0 2.83L4 21.41c.39.39.9.59 1.41.59.51 0 1.02-.2 1.41-.59l7.78-7.78 2.81-2.81c.8-.78.8-2.07 0-2.86zM5.41 20L4 18.59l7.72-7.72 1.47 1.35L5.41 20z\"/>\n",
              "  </svg>\n",
              "      </button>\n",
              "      \n",
              "  <style>\n",
              "    .colab-df-container {\n",
              "      display:flex;\n",
              "      flex-wrap:wrap;\n",
              "      gap: 12px;\n",
              "    }\n",
              "\n",
              "    .colab-df-convert {\n",
              "      background-color: #E8F0FE;\n",
              "      border: none;\n",
              "      border-radius: 50%;\n",
              "      cursor: pointer;\n",
              "      display: none;\n",
              "      fill: #1967D2;\n",
              "      height: 32px;\n",
              "      padding: 0 0 0 0;\n",
              "      width: 32px;\n",
              "    }\n",
              "\n",
              "    .colab-df-convert:hover {\n",
              "      background-color: #E2EBFA;\n",
              "      box-shadow: 0px 1px 2px rgba(60, 64, 67, 0.3), 0px 1px 3px 1px rgba(60, 64, 67, 0.15);\n",
              "      fill: #174EA6;\n",
              "    }\n",
              "\n",
              "    [theme=dark] .colab-df-convert {\n",
              "      background-color: #3B4455;\n",
              "      fill: #D2E3FC;\n",
              "    }\n",
              "\n",
              "    [theme=dark] .colab-df-convert:hover {\n",
              "      background-color: #434B5C;\n",
              "      box-shadow: 0px 1px 3px 1px rgba(0, 0, 0, 0.15);\n",
              "      filter: drop-shadow(0px 1px 2px rgba(0, 0, 0, 0.3));\n",
              "      fill: #FFFFFF;\n",
              "    }\n",
              "  </style>\n",
              "\n",
              "      <script>\n",
              "        const buttonEl =\n",
              "          document.querySelector('#df-563cab3f-b6dc-4486-abb7-e8530355afe1 button.colab-df-convert');\n",
              "        buttonEl.style.display =\n",
              "          google.colab.kernel.accessAllowed ? 'block' : 'none';\n",
              "\n",
              "        async function convertToInteractive(key) {\n",
              "          const element = document.querySelector('#df-563cab3f-b6dc-4486-abb7-e8530355afe1');\n",
              "          const dataTable =\n",
              "            await google.colab.kernel.invokeFunction('convertToInteractive',\n",
              "                                                     [key], {});\n",
              "          if (!dataTable) return;\n",
              "\n",
              "          const docLinkHtml = 'Like what you see? Visit the ' +\n",
              "            '<a target=\"_blank\" href=https://colab.research.google.com/notebooks/data_table.ipynb>data table notebook</a>'\n",
              "            + ' to learn more about interactive tables.';\n",
              "          element.innerHTML = '';\n",
              "          dataTable['output_type'] = 'display_data';\n",
              "          await google.colab.output.renderOutput(dataTable, element);\n",
              "          const docLink = document.createElement('div');\n",
              "          docLink.innerHTML = docLinkHtml;\n",
              "          element.appendChild(docLink);\n",
              "        }\n",
              "      </script>\n",
              "    </div>\n",
              "  </div>\n",
              "  "
            ],
            "text/plain": [
              "      id      cuisine                                        ingredients  \\\n",
              "0  10259        greek  [romaine lettuce, black olives, grape tomatoes...   \n",
              "1  25693  southern_us  [plain flour, ground pepper, salt, tomatoes, g...   \n",
              "2  20130     filipino  [eggs, pepper, salt, mayonaise, cooking oil, g...   \n",
              "3  22213       indian                [water, vegetable oil, wheat, salt]   \n",
              "4  13162       indian  [black pepper, shallots, cornflour, cayenne pe...   \n",
              "\n",
              "                                          clean_text  \\\n",
              "0  romaine lettuce black olives grape tomatoes ga...   \n",
              "1  plain flour ground pepper salt tomatoes ground...   \n",
              "2  eggs pepper salt mayonaise cooking oil green c...   \n",
              "3                     water vegetable oil wheat salt   \n",
              "4  black pepper shallots cornflour cayenne pepper...   \n",
              "\n",
              "                                      cleanstem_text  \n",
              "0  romain lettuc black oliv grape tomato garlic p...  \n",
              "1  plain flour ground pepper salt tomato ground b...  \n",
              "2  egg pepper salt mayonais cook oil green chili ...  \n",
              "3                         water veget oil wheat salt  \n",
              "4  black pepper shallot cornflour cayenn pepper o...  "
            ]
          },
          "execution_count": 20,
          "metadata": {},
          "output_type": "execute_result"
        }
      ],
      "source": [
        "train_data.head()"
      ]
    },
    {
      "cell_type": "code",
      "execution_count": null,
      "metadata": {
        "colab": {
          "base_uri": "https://localhost:8080/"
        },
        "id": "aJdmWh6sj-xa",
        "outputId": "b7c25ff5-6346-4f90-a3d0-61c489f60c32",
        "trusted": true
      },
      "outputs": [
        {
          "name": "stdout",
          "output_type": "stream",
          "text": [
            "[[0 0 0 ... 0 0 0]]\n"
          ]
        }
      ],
      "source": [
        "cvec = CountVectorizer()\n",
        "train_cv = cvec.fit_transform(train_data['clean_text'])\n",
        "test_cv = cvec.transform(test_data['clean_text'])\n",
        "print(train_cv[0].todense())"
      ]
    },
    {
      "cell_type": "code",
      "execution_count": null,
      "metadata": {
        "id": "zKzKHco7j-xb",
        "trusted": true
      },
      "outputs": [],
      "source": [
        "tfidf = TfidfVectorizer(min_df = 2,max_df = 0.5,ngram_range = (1,2))\n",
        "train_tfidf = tfidf.fit_transform(train_data['clean_text'])\n",
        "test_tfidf = tfidf.transform(test_data['clean_text'])"
      ]
    },
    {
      "cell_type": "code",
      "execution_count": null,
      "metadata": {
        "id": "LDhK4_4zj-xb",
        "trusted": true
      },
      "outputs": [],
      "source": [
        "#label encode the target data\n",
        "le = LabelEncoder()\n",
        "train_data['cat_cuisine']=le.fit_transform(train_data['cuisine'])"
      ]
    },
    {
      "cell_type": "code",
      "execution_count": null,
      "metadata": {
        "colab": {
          "base_uri": "https://localhost:8080/"
        },
        "id": "ADn9i6bmj-xb",
        "outputId": "38cd68e5-bfca-4786-825b-28e62e5a8a27",
        "trusted": true
      },
      "outputs": [
        {
          "name": "stdout",
          "output_type": "stream",
          "text": [
            "{'brazilian': 0, 'british': 1, 'cajun_creole': 2, 'chinese': 3, 'filipino': 4, 'french': 5, 'greek': 6, 'indian': 7, 'irish': 8, 'italian': 9, 'jamaican': 10, 'japanese': 11, 'korean': 12, 'mexican': 13, 'moroccan': 14, 'russian': 15, 'southern_us': 16, 'spanish': 17, 'thai': 18, 'vietnamese': 19}\n"
          ]
        }
      ],
      "source": [
        "#to check the mappings of the target class to its integer value\n",
        "le_name_map = dict(zip(le.classes_, le.transform(le.classes_)))\n",
        "print(le_name_map)\n"
      ]
    },
    {
      "cell_type": "code",
      "execution_count": null,
      "metadata": {
        "id": "-DZ7CQS6j-xc",
        "trusted": true
      },
      "outputs": [],
      "source": [
        "y_data=le.fit_transform(train_data['cuisine'])"
      ]
    },
    {
      "cell_type": "code",
      "execution_count": null,
      "metadata": {
        "id": "Rw56NacPj-xc",
        "trusted": true
      },
      "outputs": [],
      "source": [
        "\n",
        "x_traintf, x_validtf, y_traintf, y_validtf = train_test_split(train_tfidf ,y_data , test_size=0.2, random_state=42)\n",
        "x_traincv,x_validcv,y_traincv,y_validcv=train_test_split(train_cv ,y_data , test_size=0.2, random_state=42)"
      ]
    },
    {
      "cell_type": "code",
      "execution_count": null,
      "metadata": {
        "colab": {
          "base_uri": "https://localhost:8080/"
        },
        "id": "s7xDIFqqj-xc",
        "outputId": "7d8b549b-cfe4-433b-9fe2-0c809454f19b",
        "trusted": true
      },
      "outputs": [
        {
          "data": {
            "text/plain": [
              "9     7838\n",
              "13    6438\n",
              "16    4320\n",
              "7     3003\n",
              "3     2673\n",
              "5     2646\n",
              "2     1546\n",
              "18    1539\n",
              "11    1423\n",
              "6     1175\n",
              "17     989\n",
              "12     830\n",
              "19     825\n",
              "14     821\n",
              "1      804\n",
              "4      755\n",
              "8      667\n",
              "10     526\n",
              "15     489\n",
              "0      467\n",
              "Name: cat_cuisine, dtype: int64"
            ]
          },
          "execution_count": 27,
          "metadata": {},
          "output_type": "execute_result"
        }
      ],
      "source": [
        "train_data['cat_cuisine'].value_counts()"
      ]
    },
    {
      "cell_type": "code",
      "execution_count": null,
      "metadata": {
        "colab": {
          "base_uri": "https://localhost:8080/"
        },
        "id": "X7Xj2-GHj-xc",
        "outputId": "2bc034cc-d353-4fa7-bb5a-6732d0dcd840",
        "trusted": true
      },
      "outputs": [
        {
          "name": "stdout",
          "output_type": "stream",
          "text": [
            "score: [0.71292107 0.71694319 0.72297637 0.72900955 0.71511189 0.71058587\n",
            " 0.71737491 0.71486045 0.72315816 0.7178778 ]\n",
            "score of tfidf: [0.57088989 0.56158874 0.57491202 0.57340372 0.56172995 0.56273573\n",
            " 0.57555947 0.56701031 0.57128489 0.57530802]\n"
          ]
        }
      ],
      "source": [
        "mnb = MultinomialNB(alpha = 2.0)\n",
        "metrics_cv = model_selection.cross_val_score(mnb,train_cv,train_data['cat_cuisine'],cv = 10,scoring = 'accuracy')\n",
        "print(\"score:\",metrics_cv)\n",
        "metric_tfidf = model_selection.cross_val_score(mnb,train_tfidf,train_data['cat_cuisine'],cv = 10,scoring = 'accuracy')\n",
        "print(\"score of tfidf:\",metric_tfidf)"
      ]
    },
    {
      "cell_type": "code",
      "execution_count": null,
      "metadata": {
        "colab": {
          "base_uri": "https://localhost:8080/"
        },
        "id": "ztSdZ5SJj-xd",
        "outputId": "cd186c2e-c213-42d2-96c2-fb003a0123c2",
        "trusted": true
      },
      "outputs": [
        {
          "data": {
            "text/plain": [
              "MultinomialNB(alpha=2.0)"
            ]
          },
          "execution_count": 29,
          "metadata": {},
          "output_type": "execute_result"
        }
      ],
      "source": [
        "mnb.fit(train_cv,train_data['cat_cuisine'])"
      ]
    },
    {
      "cell_type": "code",
      "execution_count": null,
      "metadata": {
        "id": "PCtz4Vdnj-xd",
        "trusted": true
      },
      "outputs": [],
      "source": [
        "y_mnbpreds=mnb.predict(test_cv)"
      ]
    },
    {
      "cell_type": "code",
      "execution_count": null,
      "metadata": {
        "colab": {
          "base_uri": "https://localhost:8080/"
        },
        "id": "I5Y3qKBaj-xd",
        "outputId": "131862fd-b0a2-4d3e-f0c7-ff29026bec36",
        "trusted": true
      },
      "outputs": [
        {
          "data": {
            "text/plain": [
              "array([16, 16,  9, ...,  9,  2, 13])"
            ]
          },
          "execution_count": 31,
          "metadata": {},
          "output_type": "execute_result"
        }
      ],
      "source": [
        "y_mnbpreds"
      ]
    },
    {
      "cell_type": "code",
      "execution_count": null,
      "metadata": {
        "id": "D3uK61COj-xd",
        "trusted": true
      },
      "outputs": [],
      "source": [
        "y_mnbpreds=le.inverse_transform(y_mnbpreds)"
      ]
    },
    {
      "cell_type": "code",
      "execution_count": null,
      "metadata": {
        "colab": {
          "base_uri": "https://localhost:8080/"
        },
        "id": "PQfqwewtj-xd",
        "outputId": "011ce5b2-4a8f-4b7a-c6e6-03b799455adb",
        "trusted": true
      },
      "outputs": [
        {
          "data": {
            "text/plain": [
              "array(['southern_us', 'southern_us', 'italian', ..., 'italian',\n",
              "       'cajun_creole', 'mexican'], dtype=object)"
            ]
          },
          "execution_count": 33,
          "metadata": {},
          "output_type": "execute_result"
        }
      ],
      "source": [
        "y_mnbpreds"
      ]
    },
    {
      "cell_type": "code",
      "execution_count": null,
      "metadata": {
        "colab": {
          "base_uri": "https://localhost:8080/",
          "height": 206
        },
        "id": "UaRlG3Ekj-xd",
        "outputId": "f3ef67b4-9eba-4ec9-c850-9afa09974e3b",
        "trusted": true
      },
      "outputs": [
        {
          "data": {
            "text/html": [
              "\n",
              "  <div id=\"df-3373ad4a-5095-4c14-90e9-8db2a34956e5\">\n",
              "    <div class=\"colab-df-container\">\n",
              "      <div>\n",
              "<style scoped>\n",
              "    .dataframe tbody tr th:only-of-type {\n",
              "        vertical-align: middle;\n",
              "    }\n",
              "\n",
              "    .dataframe tbody tr th {\n",
              "        vertical-align: top;\n",
              "    }\n",
              "\n",
              "    .dataframe thead th {\n",
              "        text-align: right;\n",
              "    }\n",
              "</style>\n",
              "<table border=\"1\" class=\"dataframe\">\n",
              "  <thead>\n",
              "    <tr style=\"text-align: right;\">\n",
              "      <th></th>\n",
              "      <th>id</th>\n",
              "      <th>ingredients</th>\n",
              "      <th>clean_text</th>\n",
              "    </tr>\n",
              "  </thead>\n",
              "  <tbody>\n",
              "    <tr>\n",
              "      <th>0</th>\n",
              "      <td>18009</td>\n",
              "      <td>[baking powder, eggs, all-purpose flour, raisi...</td>\n",
              "      <td>baking powder eggs allpurpose flour raisins mi...</td>\n",
              "    </tr>\n",
              "    <tr>\n",
              "      <th>1</th>\n",
              "      <td>28583</td>\n",
              "      <td>[sugar, egg yolks, corn starch, cream of tarta...</td>\n",
              "      <td>sugar egg yolks corn starch cream of tartar ba...</td>\n",
              "    </tr>\n",
              "    <tr>\n",
              "      <th>2</th>\n",
              "      <td>41580</td>\n",
              "      <td>[sausage links, fennel bulb, fronds, olive oil...</td>\n",
              "      <td>sausage links fennel bulb fronds olive oil cub...</td>\n",
              "    </tr>\n",
              "    <tr>\n",
              "      <th>3</th>\n",
              "      <td>29752</td>\n",
              "      <td>[meat cuts, file powder, smoked sausage, okra,...</td>\n",
              "      <td>meat cuts file powder smoked sausage okra shri...</td>\n",
              "    </tr>\n",
              "    <tr>\n",
              "      <th>4</th>\n",
              "      <td>35687</td>\n",
              "      <td>[ground black pepper, salt, sausage casings, l...</td>\n",
              "      <td>ground black pepper salt sausage casings leeks...</td>\n",
              "    </tr>\n",
              "  </tbody>\n",
              "</table>\n",
              "</div>\n",
              "      <button class=\"colab-df-convert\" onclick=\"convertToInteractive('df-3373ad4a-5095-4c14-90e9-8db2a34956e5')\"\n",
              "              title=\"Convert this dataframe to an interactive table.\"\n",
              "              style=\"display:none;\">\n",
              "        \n",
              "  <svg xmlns=\"http://www.w3.org/2000/svg\" height=\"24px\"viewBox=\"0 0 24 24\"\n",
              "       width=\"24px\">\n",
              "    <path d=\"M0 0h24v24H0V0z\" fill=\"none\"/>\n",
              "    <path d=\"M18.56 5.44l.94 2.06.94-2.06 2.06-.94-2.06-.94-.94-2.06-.94 2.06-2.06.94zm-11 1L8.5 8.5l.94-2.06 2.06-.94-2.06-.94L8.5 2.5l-.94 2.06-2.06.94zm10 10l.94 2.06.94-2.06 2.06-.94-2.06-.94-.94-2.06-.94 2.06-2.06.94z\"/><path d=\"M17.41 7.96l-1.37-1.37c-.4-.4-.92-.59-1.43-.59-.52 0-1.04.2-1.43.59L10.3 9.45l-7.72 7.72c-.78.78-.78 2.05 0 2.83L4 21.41c.39.39.9.59 1.41.59.51 0 1.02-.2 1.41-.59l7.78-7.78 2.81-2.81c.8-.78.8-2.07 0-2.86zM5.41 20L4 18.59l7.72-7.72 1.47 1.35L5.41 20z\"/>\n",
              "  </svg>\n",
              "      </button>\n",
              "      \n",
              "  <style>\n",
              "    .colab-df-container {\n",
              "      display:flex;\n",
              "      flex-wrap:wrap;\n",
              "      gap: 12px;\n",
              "    }\n",
              "\n",
              "    .colab-df-convert {\n",
              "      background-color: #E8F0FE;\n",
              "      border: none;\n",
              "      border-radius: 50%;\n",
              "      cursor: pointer;\n",
              "      display: none;\n",
              "      fill: #1967D2;\n",
              "      height: 32px;\n",
              "      padding: 0 0 0 0;\n",
              "      width: 32px;\n",
              "    }\n",
              "\n",
              "    .colab-df-convert:hover {\n",
              "      background-color: #E2EBFA;\n",
              "      box-shadow: 0px 1px 2px rgba(60, 64, 67, 0.3), 0px 1px 3px 1px rgba(60, 64, 67, 0.15);\n",
              "      fill: #174EA6;\n",
              "    }\n",
              "\n",
              "    [theme=dark] .colab-df-convert {\n",
              "      background-color: #3B4455;\n",
              "      fill: #D2E3FC;\n",
              "    }\n",
              "\n",
              "    [theme=dark] .colab-df-convert:hover {\n",
              "      background-color: #434B5C;\n",
              "      box-shadow: 0px 1px 3px 1px rgba(0, 0, 0, 0.15);\n",
              "      filter: drop-shadow(0px 1px 2px rgba(0, 0, 0, 0.3));\n",
              "      fill: #FFFFFF;\n",
              "    }\n",
              "  </style>\n",
              "\n",
              "      <script>\n",
              "        const buttonEl =\n",
              "          document.querySelector('#df-3373ad4a-5095-4c14-90e9-8db2a34956e5 button.colab-df-convert');\n",
              "        buttonEl.style.display =\n",
              "          google.colab.kernel.accessAllowed ? 'block' : 'none';\n",
              "\n",
              "        async function convertToInteractive(key) {\n",
              "          const element = document.querySelector('#df-3373ad4a-5095-4c14-90e9-8db2a34956e5');\n",
              "          const dataTable =\n",
              "            await google.colab.kernel.invokeFunction('convertToInteractive',\n",
              "                                                     [key], {});\n",
              "          if (!dataTable) return;\n",
              "\n",
              "          const docLinkHtml = 'Like what you see? Visit the ' +\n",
              "            '<a target=\"_blank\" href=https://colab.research.google.com/notebooks/data_table.ipynb>data table notebook</a>'\n",
              "            + ' to learn more about interactive tables.';\n",
              "          element.innerHTML = '';\n",
              "          dataTable['output_type'] = 'display_data';\n",
              "          await google.colab.output.renderOutput(dataTable, element);\n",
              "          const docLink = document.createElement('div');\n",
              "          docLink.innerHTML = docLinkHtml;\n",
              "          element.appendChild(docLink);\n",
              "        }\n",
              "      </script>\n",
              "    </div>\n",
              "  </div>\n",
              "  "
            ],
            "text/plain": [
              "      id                                        ingredients  \\\n",
              "0  18009  [baking powder, eggs, all-purpose flour, raisi...   \n",
              "1  28583  [sugar, egg yolks, corn starch, cream of tarta...   \n",
              "2  41580  [sausage links, fennel bulb, fronds, olive oil...   \n",
              "3  29752  [meat cuts, file powder, smoked sausage, okra,...   \n",
              "4  35687  [ground black pepper, salt, sausage casings, l...   \n",
              "\n",
              "                                          clean_text  \n",
              "0  baking powder eggs allpurpose flour raisins mi...  \n",
              "1  sugar egg yolks corn starch cream of tartar ba...  \n",
              "2  sausage links fennel bulb fronds olive oil cub...  \n",
              "3  meat cuts file powder smoked sausage okra shri...  \n",
              "4  ground black pepper salt sausage casings leeks...  "
            ]
          },
          "execution_count": 34,
          "metadata": {},
          "output_type": "execute_result"
        }
      ],
      "source": [
        "test_data.head()"
      ]
    },
    {
      "cell_type": "code",
      "execution_count": null,
      "metadata": {
        "id": "Tz0F2PW3j-xe",
        "trusted": true
      },
      "outputs": [],
      "source": [
        "##will try to balance the dataset and apply the model on balanced dataset\n",
        "from imblearn.under_sampling import RandomUnderSampler"
      ]
    },
    {
      "cell_type": "code",
      "execution_count": null,
      "metadata": {
        "id": "EFFvnmZtj-xe",
        "trusted": true
      },
      "outputs": [],
      "source": [
        "#undersampling on train countvectirizer data\n",
        "undersample =RandomUnderSampler(sampling_strategy='majority')\n",
        "x_undercv,y_undercv=undersample.fit_resample(train_cv,train_data['cat_cuisine'])"
      ]
    },
    {
      "cell_type": "code",
      "execution_count": null,
      "metadata": {
        "id": "JVKO6tM0j-xe",
        "trusted": true
      },
      "outputs": [],
      "source": [
        "#undersampling on train tfidf data\n",
        "x_undertfidf,y_undertfidf=undersample.fit_resample(train_tfidf,train_data['cat_cuisine'])"
      ]
    },
    {
      "cell_type": "code",
      "execution_count": null,
      "metadata": {
        "colab": {
          "base_uri": "https://localhost:8080/"
        },
        "id": "3s9Y3wVzj-xe",
        "outputId": "3dcdba2a-268e-478f-9bbd-936cb2876e80",
        "trusted": true
      },
      "outputs": [
        {
          "name": "stdout",
          "output_type": "stream",
          "text": [
            "mean_score cv: 0.7180819248132772\n",
            "score of tfidf: 0.5694422732117418\n",
            "score of cv balanced: 0.7121561037021801\n",
            "score of tfidf balanced: 0.539332834325635\n"
          ]
        }
      ],
      "source": [
        "#trying multinomial Naive bayes on balanced dataset and without balanced dataset\n",
        "metrics_cv = model_selection.cross_val_score(mnb,train_cv,train_data['cat_cuisine'],cv = 10,scoring = 'accuracy')\n",
        "print(\"mean_score cv:\",metrics_cv.mean())\n",
        "metric_tfidf = model_selection.cross_val_score(mnb,train_tfidf,train_data['cat_cuisine'],cv = 10,scoring = 'accuracy')\n",
        "print(\"score of tfidf:\",metric_tfidf.mean())\n",
        "metrics_cvbal = model_selection.cross_val_score(mnb,x_undercv,y_undercv,cv = 10,scoring = 'accuracy')\n",
        "print(\"score of cv balanced:\",metrics_cvbal.mean())\n",
        "metric_tfidfbal = model_selection.cross_val_score(mnb,x_undertfidf,y_undertfidf,cv = 10,scoring = 'accuracy')\n",
        "print(\"score of tfidf balanced:\",metric_tfidfbal.mean())"
      ]
    },
    {
      "cell_type": "code",
      "execution_count": null,
      "metadata": {
        "id": "0_9BW5Olj-xe",
        "trusted": true
      },
      "outputs": [],
      "source": [
        "#mnb.fit(x_undercv,y_undercv)\n",
        "##since we got high accuracy with CV train test data, therefore we are going with count vectorizer dataset\n",
        "#y_mnbpredsbal=mnb.predict(test_cv)\n",
        "#y_mnbpredsbal=le.inverse_transform(y_mnbpredsbal)\n",
        "#submission = pd.DataFrame({'Id':test_data['id'],'cuisine':y_mnbpredsbal})\n",
        "#submission.to_csv('submission.csv',index=False)"
      ]
    },
    {
      "cell_type": "code",
      "execution_count": null,
      "metadata": {
        "id": "JplK3O6Vj-xe",
        "trusted": true
      },
      "outputs": [],
      "source": [
        "##we are now aware that undersamping did not give much accuracy therefore, we can try without sampling the dataset\n",
        "#now will go for others models, without sampling\n",
        "from sklearn.linear_model import LogisticRegression\n",
        "from sklearn.ensemble import RandomForestClassifier\n",
        "from sklearn.svm import LinearSVC\n",
        "from sklearn import model_selection"
      ]
    },
    {
      "cell_type": "code",
      "execution_count": null,
      "metadata": {
        "colab": {
          "base_uri": "https://localhost:8080/"
        },
        "id": "Cn5W9hdAj-xf",
        "outputId": "ec0651b0-4740-475c-8e41-3ac68294d901",
        "trusted": true
      },
      "outputs": [
        {
          "name": "stderr",
          "output_type": "stream",
          "text": [
            "/usr/local/lib/python3.7/dist-packages/sklearn/linear_model/_logistic.py:818: ConvergenceWarning: lbfgs failed to converge (status=1):\n",
            "STOP: TOTAL NO. of ITERATIONS REACHED LIMIT.\n",
            "\n",
            "Increase the number of iterations (max_iter) or scale the data as shown in:\n",
            "    https://scikit-learn.org/stable/modules/preprocessing.html\n",
            "Please also refer to the documentation for alternative solver options:\n",
            "    https://scikit-learn.org/stable/modules/linear_model.html#logistic-regression\n",
            "  extra_warning_msg=_LOGISTIC_SOLVER_CONVERGENCE_MSG,\n",
            "/usr/local/lib/python3.7/dist-packages/sklearn/linear_model/_logistic.py:818: ConvergenceWarning: lbfgs failed to converge (status=1):\n",
            "STOP: TOTAL NO. of ITERATIONS REACHED LIMIT.\n",
            "\n",
            "Increase the number of iterations (max_iter) or scale the data as shown in:\n",
            "    https://scikit-learn.org/stable/modules/preprocessing.html\n",
            "Please also refer to the documentation for alternative solver options:\n",
            "    https://scikit-learn.org/stable/modules/linear_model.html#logistic-regression\n",
            "  extra_warning_msg=_LOGISTIC_SOLVER_CONVERGENCE_MSG,\n",
            "/usr/local/lib/python3.7/dist-packages/sklearn/linear_model/_logistic.py:818: ConvergenceWarning: lbfgs failed to converge (status=1):\n",
            "STOP: TOTAL NO. of ITERATIONS REACHED LIMIT.\n",
            "\n",
            "Increase the number of iterations (max_iter) or scale the data as shown in:\n",
            "    https://scikit-learn.org/stable/modules/preprocessing.html\n",
            "Please also refer to the documentation for alternative solver options:\n",
            "    https://scikit-learn.org/stable/modules/linear_model.html#logistic-regression\n",
            "  extra_warning_msg=_LOGISTIC_SOLVER_CONVERGENCE_MSG,\n",
            "/usr/local/lib/python3.7/dist-packages/sklearn/linear_model/_logistic.py:818: ConvergenceWarning: lbfgs failed to converge (status=1):\n",
            "STOP: TOTAL NO. of ITERATIONS REACHED LIMIT.\n",
            "\n",
            "Increase the number of iterations (max_iter) or scale the data as shown in:\n",
            "    https://scikit-learn.org/stable/modules/preprocessing.html\n",
            "Please also refer to the documentation for alternative solver options:\n",
            "    https://scikit-learn.org/stable/modules/linear_model.html#logistic-regression\n",
            "  extra_warning_msg=_LOGISTIC_SOLVER_CONVERGENCE_MSG,\n",
            "/usr/local/lib/python3.7/dist-packages/sklearn/linear_model/_logistic.py:818: ConvergenceWarning: lbfgs failed to converge (status=1):\n",
            "STOP: TOTAL NO. of ITERATIONS REACHED LIMIT.\n",
            "\n",
            "Increase the number of iterations (max_iter) or scale the data as shown in:\n",
            "    https://scikit-learn.org/stable/modules/preprocessing.html\n",
            "Please also refer to the documentation for alternative solver options:\n",
            "    https://scikit-learn.org/stable/modules/linear_model.html#logistic-regression\n",
            "  extra_warning_msg=_LOGISTIC_SOLVER_CONVERGENCE_MSG,\n",
            "/usr/local/lib/python3.7/dist-packages/sklearn/linear_model/_logistic.py:818: ConvergenceWarning: lbfgs failed to converge (status=1):\n",
            "STOP: TOTAL NO. of ITERATIONS REACHED LIMIT.\n",
            "\n",
            "Increase the number of iterations (max_iter) or scale the data as shown in:\n",
            "    https://scikit-learn.org/stable/modules/preprocessing.html\n",
            "Please also refer to the documentation for alternative solver options:\n",
            "    https://scikit-learn.org/stable/modules/linear_model.html#logistic-regression\n",
            "  extra_warning_msg=_LOGISTIC_SOLVER_CONVERGENCE_MSG,\n",
            "/usr/local/lib/python3.7/dist-packages/sklearn/linear_model/_logistic.py:818: ConvergenceWarning: lbfgs failed to converge (status=1):\n",
            "STOP: TOTAL NO. of ITERATIONS REACHED LIMIT.\n",
            "\n",
            "Increase the number of iterations (max_iter) or scale the data as shown in:\n",
            "    https://scikit-learn.org/stable/modules/preprocessing.html\n",
            "Please also refer to the documentation for alternative solver options:\n",
            "    https://scikit-learn.org/stable/modules/linear_model.html#logistic-regression\n",
            "  extra_warning_msg=_LOGISTIC_SOLVER_CONVERGENCE_MSG,\n",
            "/usr/local/lib/python3.7/dist-packages/sklearn/linear_model/_logistic.py:818: ConvergenceWarning: lbfgs failed to converge (status=1):\n",
            "STOP: TOTAL NO. of ITERATIONS REACHED LIMIT.\n",
            "\n",
            "Increase the number of iterations (max_iter) or scale the data as shown in:\n",
            "    https://scikit-learn.org/stable/modules/preprocessing.html\n",
            "Please also refer to the documentation for alternative solver options:\n",
            "    https://scikit-learn.org/stable/modules/linear_model.html#logistic-regression\n",
            "  extra_warning_msg=_LOGISTIC_SOLVER_CONVERGENCE_MSG,\n",
            "/usr/local/lib/python3.7/dist-packages/sklearn/linear_model/_logistic.py:818: ConvergenceWarning: lbfgs failed to converge (status=1):\n",
            "STOP: TOTAL NO. of ITERATIONS REACHED LIMIT.\n",
            "\n",
            "Increase the number of iterations (max_iter) or scale the data as shown in:\n",
            "    https://scikit-learn.org/stable/modules/preprocessing.html\n",
            "Please also refer to the documentation for alternative solver options:\n",
            "    https://scikit-learn.org/stable/modules/linear_model.html#logistic-regression\n",
            "  extra_warning_msg=_LOGISTIC_SOLVER_CONVERGENCE_MSG,\n",
            "/usr/local/lib/python3.7/dist-packages/sklearn/linear_model/_logistic.py:818: ConvergenceWarning: lbfgs failed to converge (status=1):\n",
            "STOP: TOTAL NO. of ITERATIONS REACHED LIMIT.\n",
            "\n",
            "Increase the number of iterations (max_iter) or scale the data as shown in:\n",
            "    https://scikit-learn.org/stable/modules/preprocessing.html\n",
            "Please also refer to the documentation for alternative solver options:\n",
            "    https://scikit-learn.org/stable/modules/linear_model.html#logistic-regression\n",
            "  extra_warning_msg=_LOGISTIC_SOLVER_CONVERGENCE_MSG,\n"
          ]
        },
        {
          "name": "stdout",
          "output_type": "stream",
          "text": [
            "score of cv: 0.7852366479302242\n"
          ]
        },
        {
          "name": "stderr",
          "output_type": "stream",
          "text": [
            "/usr/local/lib/python3.7/dist-packages/sklearn/linear_model/_logistic.py:818: ConvergenceWarning: lbfgs failed to converge (status=1):\n",
            "STOP: TOTAL NO. of ITERATIONS REACHED LIMIT.\n",
            "\n",
            "Increase the number of iterations (max_iter) or scale the data as shown in:\n",
            "    https://scikit-learn.org/stable/modules/preprocessing.html\n",
            "Please also refer to the documentation for alternative solver options:\n",
            "    https://scikit-learn.org/stable/modules/linear_model.html#logistic-regression\n",
            "  extra_warning_msg=_LOGISTIC_SOLVER_CONVERGENCE_MSG,\n",
            "/usr/local/lib/python3.7/dist-packages/sklearn/linear_model/_logistic.py:818: ConvergenceWarning: lbfgs failed to converge (status=1):\n",
            "STOP: TOTAL NO. of ITERATIONS REACHED LIMIT.\n",
            "\n",
            "Increase the number of iterations (max_iter) or scale the data as shown in:\n",
            "    https://scikit-learn.org/stable/modules/preprocessing.html\n",
            "Please also refer to the documentation for alternative solver options:\n",
            "    https://scikit-learn.org/stable/modules/linear_model.html#logistic-regression\n",
            "  extra_warning_msg=_LOGISTIC_SOLVER_CONVERGENCE_MSG,\n",
            "/usr/local/lib/python3.7/dist-packages/sklearn/linear_model/_logistic.py:818: ConvergenceWarning: lbfgs failed to converge (status=1):\n",
            "STOP: TOTAL NO. of ITERATIONS REACHED LIMIT.\n",
            "\n",
            "Increase the number of iterations (max_iter) or scale the data as shown in:\n",
            "    https://scikit-learn.org/stable/modules/preprocessing.html\n",
            "Please also refer to the documentation for alternative solver options:\n",
            "    https://scikit-learn.org/stable/modules/linear_model.html#logistic-regression\n",
            "  extra_warning_msg=_LOGISTIC_SOLVER_CONVERGENCE_MSG,\n",
            "/usr/local/lib/python3.7/dist-packages/sklearn/linear_model/_logistic.py:818: ConvergenceWarning: lbfgs failed to converge (status=1):\n",
            "STOP: TOTAL NO. of ITERATIONS REACHED LIMIT.\n",
            "\n",
            "Increase the number of iterations (max_iter) or scale the data as shown in:\n",
            "    https://scikit-learn.org/stable/modules/preprocessing.html\n",
            "Please also refer to the documentation for alternative solver options:\n",
            "    https://scikit-learn.org/stable/modules/linear_model.html#logistic-regression\n",
            "  extra_warning_msg=_LOGISTIC_SOLVER_CONVERGENCE_MSG,\n",
            "/usr/local/lib/python3.7/dist-packages/sklearn/linear_model/_logistic.py:818: ConvergenceWarning: lbfgs failed to converge (status=1):\n",
            "STOP: TOTAL NO. of ITERATIONS REACHED LIMIT.\n",
            "\n",
            "Increase the number of iterations (max_iter) or scale the data as shown in:\n",
            "    https://scikit-learn.org/stable/modules/preprocessing.html\n",
            "Please also refer to the documentation for alternative solver options:\n",
            "    https://scikit-learn.org/stable/modules/linear_model.html#logistic-regression\n",
            "  extra_warning_msg=_LOGISTIC_SOLVER_CONVERGENCE_MSG,\n",
            "/usr/local/lib/python3.7/dist-packages/sklearn/linear_model/_logistic.py:818: ConvergenceWarning: lbfgs failed to converge (status=1):\n",
            "STOP: TOTAL NO. of ITERATIONS REACHED LIMIT.\n",
            "\n",
            "Increase the number of iterations (max_iter) or scale the data as shown in:\n",
            "    https://scikit-learn.org/stable/modules/preprocessing.html\n",
            "Please also refer to the documentation for alternative solver options:\n",
            "    https://scikit-learn.org/stable/modules/linear_model.html#logistic-regression\n",
            "  extra_warning_msg=_LOGISTIC_SOLVER_CONVERGENCE_MSG,\n",
            "/usr/local/lib/python3.7/dist-packages/sklearn/linear_model/_logistic.py:818: ConvergenceWarning: lbfgs failed to converge (status=1):\n",
            "STOP: TOTAL NO. of ITERATIONS REACHED LIMIT.\n",
            "\n",
            "Increase the number of iterations (max_iter) or scale the data as shown in:\n",
            "    https://scikit-learn.org/stable/modules/preprocessing.html\n",
            "Please also refer to the documentation for alternative solver options:\n",
            "    https://scikit-learn.org/stable/modules/linear_model.html#logistic-regression\n",
            "  extra_warning_msg=_LOGISTIC_SOLVER_CONVERGENCE_MSG,\n",
            "/usr/local/lib/python3.7/dist-packages/sklearn/linear_model/_logistic.py:818: ConvergenceWarning: lbfgs failed to converge (status=1):\n",
            "STOP: TOTAL NO. of ITERATIONS REACHED LIMIT.\n",
            "\n",
            "Increase the number of iterations (max_iter) or scale the data as shown in:\n",
            "    https://scikit-learn.org/stable/modules/preprocessing.html\n",
            "Please also refer to the documentation for alternative solver options:\n",
            "    https://scikit-learn.org/stable/modules/linear_model.html#logistic-regression\n",
            "  extra_warning_msg=_LOGISTIC_SOLVER_CONVERGENCE_MSG,\n",
            "/usr/local/lib/python3.7/dist-packages/sklearn/linear_model/_logistic.py:818: ConvergenceWarning: lbfgs failed to converge (status=1):\n",
            "STOP: TOTAL NO. of ITERATIONS REACHED LIMIT.\n",
            "\n",
            "Increase the number of iterations (max_iter) or scale the data as shown in:\n",
            "    https://scikit-learn.org/stable/modules/preprocessing.html\n",
            "Please also refer to the documentation for alternative solver options:\n",
            "    https://scikit-learn.org/stable/modules/linear_model.html#logistic-regression\n",
            "  extra_warning_msg=_LOGISTIC_SOLVER_CONVERGENCE_MSG,\n",
            "/usr/local/lib/python3.7/dist-packages/sklearn/linear_model/_logistic.py:818: ConvergenceWarning: lbfgs failed to converge (status=1):\n",
            "STOP: TOTAL NO. of ITERATIONS REACHED LIMIT.\n",
            "\n",
            "Increase the number of iterations (max_iter) or scale the data as shown in:\n",
            "    https://scikit-learn.org/stable/modules/preprocessing.html\n",
            "Please also refer to the documentation for alternative solver options:\n",
            "    https://scikit-learn.org/stable/modules/linear_model.html#logistic-regression\n",
            "  extra_warning_msg=_LOGISTIC_SOLVER_CONVERGENCE_MSG,\n"
          ]
        },
        {
          "name": "stdout",
          "output_type": "stream",
          "text": [
            "score of tfidf: 0.7769644915276414\n"
          ]
        },
        {
          "name": "stderr",
          "output_type": "stream",
          "text": [
            "/usr/local/lib/python3.7/dist-packages/sklearn/linear_model/_logistic.py:818: ConvergenceWarning: lbfgs failed to converge (status=1):\n",
            "STOP: TOTAL NO. of ITERATIONS REACHED LIMIT.\n",
            "\n",
            "Increase the number of iterations (max_iter) or scale the data as shown in:\n",
            "    https://scikit-learn.org/stable/modules/preprocessing.html\n",
            "Please also refer to the documentation for alternative solver options:\n",
            "    https://scikit-learn.org/stable/modules/linear_model.html#logistic-regression\n",
            "  extra_warning_msg=_LOGISTIC_SOLVER_CONVERGENCE_MSG,\n",
            "/usr/local/lib/python3.7/dist-packages/sklearn/linear_model/_logistic.py:818: ConvergenceWarning: lbfgs failed to converge (status=1):\n",
            "STOP: TOTAL NO. of ITERATIONS REACHED LIMIT.\n",
            "\n",
            "Increase the number of iterations (max_iter) or scale the data as shown in:\n",
            "    https://scikit-learn.org/stable/modules/preprocessing.html\n",
            "Please also refer to the documentation for alternative solver options:\n",
            "    https://scikit-learn.org/stable/modules/linear_model.html#logistic-regression\n",
            "  extra_warning_msg=_LOGISTIC_SOLVER_CONVERGENCE_MSG,\n",
            "/usr/local/lib/python3.7/dist-packages/sklearn/linear_model/_logistic.py:818: ConvergenceWarning: lbfgs failed to converge (status=1):\n",
            "STOP: TOTAL NO. of ITERATIONS REACHED LIMIT.\n",
            "\n",
            "Increase the number of iterations (max_iter) or scale the data as shown in:\n",
            "    https://scikit-learn.org/stable/modules/preprocessing.html\n",
            "Please also refer to the documentation for alternative solver options:\n",
            "    https://scikit-learn.org/stable/modules/linear_model.html#logistic-regression\n",
            "  extra_warning_msg=_LOGISTIC_SOLVER_CONVERGENCE_MSG,\n",
            "/usr/local/lib/python3.7/dist-packages/sklearn/linear_model/_logistic.py:818: ConvergenceWarning: lbfgs failed to converge (status=1):\n",
            "STOP: TOTAL NO. of ITERATIONS REACHED LIMIT.\n",
            "\n",
            "Increase the number of iterations (max_iter) or scale the data as shown in:\n",
            "    https://scikit-learn.org/stable/modules/preprocessing.html\n",
            "Please also refer to the documentation for alternative solver options:\n",
            "    https://scikit-learn.org/stable/modules/linear_model.html#logistic-regression\n",
            "  extra_warning_msg=_LOGISTIC_SOLVER_CONVERGENCE_MSG,\n",
            "/usr/local/lib/python3.7/dist-packages/sklearn/linear_model/_logistic.py:818: ConvergenceWarning: lbfgs failed to converge (status=1):\n",
            "STOP: TOTAL NO. of ITERATIONS REACHED LIMIT.\n",
            "\n",
            "Increase the number of iterations (max_iter) or scale the data as shown in:\n",
            "    https://scikit-learn.org/stable/modules/preprocessing.html\n",
            "Please also refer to the documentation for alternative solver options:\n",
            "    https://scikit-learn.org/stable/modules/linear_model.html#logistic-regression\n",
            "  extra_warning_msg=_LOGISTIC_SOLVER_CONVERGENCE_MSG,\n",
            "/usr/local/lib/python3.7/dist-packages/sklearn/linear_model/_logistic.py:818: ConvergenceWarning: lbfgs failed to converge (status=1):\n",
            "STOP: TOTAL NO. of ITERATIONS REACHED LIMIT.\n",
            "\n",
            "Increase the number of iterations (max_iter) or scale the data as shown in:\n",
            "    https://scikit-learn.org/stable/modules/preprocessing.html\n",
            "Please also refer to the documentation for alternative solver options:\n",
            "    https://scikit-learn.org/stable/modules/linear_model.html#logistic-regression\n",
            "  extra_warning_msg=_LOGISTIC_SOLVER_CONVERGENCE_MSG,\n",
            "/usr/local/lib/python3.7/dist-packages/sklearn/linear_model/_logistic.py:818: ConvergenceWarning: lbfgs failed to converge (status=1):\n",
            "STOP: TOTAL NO. of ITERATIONS REACHED LIMIT.\n",
            "\n",
            "Increase the number of iterations (max_iter) or scale the data as shown in:\n",
            "    https://scikit-learn.org/stable/modules/preprocessing.html\n",
            "Please also refer to the documentation for alternative solver options:\n",
            "    https://scikit-learn.org/stable/modules/linear_model.html#logistic-regression\n",
            "  extra_warning_msg=_LOGISTIC_SOLVER_CONVERGENCE_MSG,\n",
            "/usr/local/lib/python3.7/dist-packages/sklearn/linear_model/_logistic.py:818: ConvergenceWarning: lbfgs failed to converge (status=1):\n",
            "STOP: TOTAL NO. of ITERATIONS REACHED LIMIT.\n",
            "\n",
            "Increase the number of iterations (max_iter) or scale the data as shown in:\n",
            "    https://scikit-learn.org/stable/modules/preprocessing.html\n",
            "Please also refer to the documentation for alternative solver options:\n",
            "    https://scikit-learn.org/stable/modules/linear_model.html#logistic-regression\n",
            "  extra_warning_msg=_LOGISTIC_SOLVER_CONVERGENCE_MSG,\n",
            "/usr/local/lib/python3.7/dist-packages/sklearn/linear_model/_logistic.py:818: ConvergenceWarning: lbfgs failed to converge (status=1):\n",
            "STOP: TOTAL NO. of ITERATIONS REACHED LIMIT.\n",
            "\n",
            "Increase the number of iterations (max_iter) or scale the data as shown in:\n",
            "    https://scikit-learn.org/stable/modules/preprocessing.html\n",
            "Please also refer to the documentation for alternative solver options:\n",
            "    https://scikit-learn.org/stable/modules/linear_model.html#logistic-regression\n",
            "  extra_warning_msg=_LOGISTIC_SOLVER_CONVERGENCE_MSG,\n",
            "/usr/local/lib/python3.7/dist-packages/sklearn/linear_model/_logistic.py:818: ConvergenceWarning: lbfgs failed to converge (status=1):\n",
            "STOP: TOTAL NO. of ITERATIONS REACHED LIMIT.\n",
            "\n",
            "Increase the number of iterations (max_iter) or scale the data as shown in:\n",
            "    https://scikit-learn.org/stable/modules/preprocessing.html\n",
            "Please also refer to the documentation for alternative solver options:\n",
            "    https://scikit-learn.org/stable/modules/linear_model.html#logistic-regression\n",
            "  extra_warning_msg=_LOGISTIC_SOLVER_CONVERGENCE_MSG,\n"
          ]
        },
        {
          "name": "stdout",
          "output_type": "stream",
          "text": [
            "score of cv balanced: 0.7792181768315677\n"
          ]
        },
        {
          "name": "stderr",
          "output_type": "stream",
          "text": [
            "/usr/local/lib/python3.7/dist-packages/sklearn/linear_model/_logistic.py:818: ConvergenceWarning: lbfgs failed to converge (status=1):\n",
            "STOP: TOTAL NO. of ITERATIONS REACHED LIMIT.\n",
            "\n",
            "Increase the number of iterations (max_iter) or scale the data as shown in:\n",
            "    https://scikit-learn.org/stable/modules/preprocessing.html\n",
            "Please also refer to the documentation for alternative solver options:\n",
            "    https://scikit-learn.org/stable/modules/linear_model.html#logistic-regression\n",
            "  extra_warning_msg=_LOGISTIC_SOLVER_CONVERGENCE_MSG,\n",
            "/usr/local/lib/python3.7/dist-packages/sklearn/linear_model/_logistic.py:818: ConvergenceWarning: lbfgs failed to converge (status=1):\n",
            "STOP: TOTAL NO. of ITERATIONS REACHED LIMIT.\n",
            "\n",
            "Increase the number of iterations (max_iter) or scale the data as shown in:\n",
            "    https://scikit-learn.org/stable/modules/preprocessing.html\n",
            "Please also refer to the documentation for alternative solver options:\n",
            "    https://scikit-learn.org/stable/modules/linear_model.html#logistic-regression\n",
            "  extra_warning_msg=_LOGISTIC_SOLVER_CONVERGENCE_MSG,\n",
            "/usr/local/lib/python3.7/dist-packages/sklearn/linear_model/_logistic.py:818: ConvergenceWarning: lbfgs failed to converge (status=1):\n",
            "STOP: TOTAL NO. of ITERATIONS REACHED LIMIT.\n",
            "\n",
            "Increase the number of iterations (max_iter) or scale the data as shown in:\n",
            "    https://scikit-learn.org/stable/modules/preprocessing.html\n",
            "Please also refer to the documentation for alternative solver options:\n",
            "    https://scikit-learn.org/stable/modules/linear_model.html#logistic-regression\n",
            "  extra_warning_msg=_LOGISTIC_SOLVER_CONVERGENCE_MSG,\n",
            "/usr/local/lib/python3.7/dist-packages/sklearn/linear_model/_logistic.py:818: ConvergenceWarning: lbfgs failed to converge (status=1):\n",
            "STOP: TOTAL NO. of ITERATIONS REACHED LIMIT.\n",
            "\n",
            "Increase the number of iterations (max_iter) or scale the data as shown in:\n",
            "    https://scikit-learn.org/stable/modules/preprocessing.html\n",
            "Please also refer to the documentation for alternative solver options:\n",
            "    https://scikit-learn.org/stable/modules/linear_model.html#logistic-regression\n",
            "  extra_warning_msg=_LOGISTIC_SOLVER_CONVERGENCE_MSG,\n",
            "/usr/local/lib/python3.7/dist-packages/sklearn/linear_model/_logistic.py:818: ConvergenceWarning: lbfgs failed to converge (status=1):\n",
            "STOP: TOTAL NO. of ITERATIONS REACHED LIMIT.\n",
            "\n",
            "Increase the number of iterations (max_iter) or scale the data as shown in:\n",
            "    https://scikit-learn.org/stable/modules/preprocessing.html\n",
            "Please also refer to the documentation for alternative solver options:\n",
            "    https://scikit-learn.org/stable/modules/linear_model.html#logistic-regression\n",
            "  extra_warning_msg=_LOGISTIC_SOLVER_CONVERGENCE_MSG,\n",
            "/usr/local/lib/python3.7/dist-packages/sklearn/linear_model/_logistic.py:818: ConvergenceWarning: lbfgs failed to converge (status=1):\n",
            "STOP: TOTAL NO. of ITERATIONS REACHED LIMIT.\n",
            "\n",
            "Increase the number of iterations (max_iter) or scale the data as shown in:\n",
            "    https://scikit-learn.org/stable/modules/preprocessing.html\n",
            "Please also refer to the documentation for alternative solver options:\n",
            "    https://scikit-learn.org/stable/modules/linear_model.html#logistic-regression\n",
            "  extra_warning_msg=_LOGISTIC_SOLVER_CONVERGENCE_MSG,\n",
            "/usr/local/lib/python3.7/dist-packages/sklearn/linear_model/_logistic.py:818: ConvergenceWarning: lbfgs failed to converge (status=1):\n",
            "STOP: TOTAL NO. of ITERATIONS REACHED LIMIT.\n",
            "\n",
            "Increase the number of iterations (max_iter) or scale the data as shown in:\n",
            "    https://scikit-learn.org/stable/modules/preprocessing.html\n",
            "Please also refer to the documentation for alternative solver options:\n",
            "    https://scikit-learn.org/stable/modules/linear_model.html#logistic-regression\n",
            "  extra_warning_msg=_LOGISTIC_SOLVER_CONVERGENCE_MSG,\n",
            "/usr/local/lib/python3.7/dist-packages/sklearn/linear_model/_logistic.py:818: ConvergenceWarning: lbfgs failed to converge (status=1):\n",
            "STOP: TOTAL NO. of ITERATIONS REACHED LIMIT.\n",
            "\n",
            "Increase the number of iterations (max_iter) or scale the data as shown in:\n",
            "    https://scikit-learn.org/stable/modules/preprocessing.html\n",
            "Please also refer to the documentation for alternative solver options:\n",
            "    https://scikit-learn.org/stable/modules/linear_model.html#logistic-regression\n",
            "  extra_warning_msg=_LOGISTIC_SOLVER_CONVERGENCE_MSG,\n",
            "/usr/local/lib/python3.7/dist-packages/sklearn/linear_model/_logistic.py:818: ConvergenceWarning: lbfgs failed to converge (status=1):\n",
            "STOP: TOTAL NO. of ITERATIONS REACHED LIMIT.\n",
            "\n",
            "Increase the number of iterations (max_iter) or scale the data as shown in:\n",
            "    https://scikit-learn.org/stable/modules/preprocessing.html\n",
            "Please also refer to the documentation for alternative solver options:\n",
            "    https://scikit-learn.org/stable/modules/linear_model.html#logistic-regression\n",
            "  extra_warning_msg=_LOGISTIC_SOLVER_CONVERGENCE_MSG,\n"
          ]
        },
        {
          "name": "stdout",
          "output_type": "stream",
          "text": [
            "score of tfidf balanced: 0.7703297450489675\n"
          ]
        },
        {
          "name": "stderr",
          "output_type": "stream",
          "text": [
            "/usr/local/lib/python3.7/dist-packages/sklearn/linear_model/_logistic.py:818: ConvergenceWarning: lbfgs failed to converge (status=1):\n",
            "STOP: TOTAL NO. of ITERATIONS REACHED LIMIT.\n",
            "\n",
            "Increase the number of iterations (max_iter) or scale the data as shown in:\n",
            "    https://scikit-learn.org/stable/modules/preprocessing.html\n",
            "Please also refer to the documentation for alternative solver options:\n",
            "    https://scikit-learn.org/stable/modules/linear_model.html#logistic-regression\n",
            "  extra_warning_msg=_LOGISTIC_SOLVER_CONVERGENCE_MSG,\n"
          ]
        }
      ],
      "source": [
        "logreg=LogisticRegression(random_state=0)\n",
        "metrics_cv = model_selection.cross_val_score(logreg,train_cv,train_data['cat_cuisine'],cv = 10,scoring = 'accuracy')\n",
        "print(\"score of cv:\",metrics_cv.mean())\n",
        "metric_tfidf = model_selection.cross_val_score(logreg,train_tfidf,train_data['cat_cuisine'],cv = 10,scoring = 'accuracy')\n",
        "print(\"score of tfidf:\",metric_tfidf.mean())\n",
        "metrics_cvbal = model_selection.cross_val_score(logreg,x_undercv,y_undercv,cv = 10,scoring = 'accuracy')\n",
        "print(\"score of cv balanced:\",metrics_cvbal.mean())\n",
        "metric_tfidfbal = model_selection.cross_val_score(logreg,x_undertfidf,y_undertfidf,cv = 10,scoring = 'accuracy')\n",
        "print(\"score of tfidf balanced:\",metric_tfidfbal.mean())\n"
      ]
    },
    {
      "cell_type": "code",
      "execution_count": null,
      "metadata": {
        "colab": {
          "base_uri": "https://localhost:8080/"
        },
        "id": "6clF4VMaj-xf",
        "outputId": "ccc76f9f-9ba1-4e32-df82-b138b24171c7",
        "trusted": true
      },
      "outputs": [
        {
          "name": "stderr",
          "output_type": "stream",
          "text": [
            "/usr/local/lib/python3.7/dist-packages/sklearn/svm/_base.py:1208: ConvergenceWarning: Liblinear failed to converge, increase the number of iterations.\n",
            "  ConvergenceWarning,\n",
            "/usr/local/lib/python3.7/dist-packages/sklearn/svm/_base.py:1208: ConvergenceWarning: Liblinear failed to converge, increase the number of iterations.\n",
            "  ConvergenceWarning,\n",
            "/usr/local/lib/python3.7/dist-packages/sklearn/svm/_base.py:1208: ConvergenceWarning: Liblinear failed to converge, increase the number of iterations.\n",
            "  ConvergenceWarning,\n",
            "/usr/local/lib/python3.7/dist-packages/sklearn/svm/_base.py:1208: ConvergenceWarning: Liblinear failed to converge, increase the number of iterations.\n",
            "  ConvergenceWarning,\n",
            "/usr/local/lib/python3.7/dist-packages/sklearn/svm/_base.py:1208: ConvergenceWarning: Liblinear failed to converge, increase the number of iterations.\n",
            "  ConvergenceWarning,\n",
            "/usr/local/lib/python3.7/dist-packages/sklearn/svm/_base.py:1208: ConvergenceWarning: Liblinear failed to converge, increase the number of iterations.\n",
            "  ConvergenceWarning,\n",
            "/usr/local/lib/python3.7/dist-packages/sklearn/svm/_base.py:1208: ConvergenceWarning: Liblinear failed to converge, increase the number of iterations.\n",
            "  ConvergenceWarning,\n",
            "/usr/local/lib/python3.7/dist-packages/sklearn/svm/_base.py:1208: ConvergenceWarning: Liblinear failed to converge, increase the number of iterations.\n",
            "  ConvergenceWarning,\n",
            "/usr/local/lib/python3.7/dist-packages/sklearn/svm/_base.py:1208: ConvergenceWarning: Liblinear failed to converge, increase the number of iterations.\n",
            "  ConvergenceWarning,\n",
            "/usr/local/lib/python3.7/dist-packages/sklearn/svm/_base.py:1208: ConvergenceWarning: Liblinear failed to converge, increase the number of iterations.\n",
            "  ConvergenceWarning,\n"
          ]
        },
        {
          "name": "stdout",
          "output_type": "stream",
          "text": [
            "score of cv: 0.7794789686246446\n",
            "score of tfidf: 0.7901138307459952\n"
          ]
        },
        {
          "name": "stderr",
          "output_type": "stream",
          "text": [
            "/usr/local/lib/python3.7/dist-packages/sklearn/svm/_base.py:1208: ConvergenceWarning: Liblinear failed to converge, increase the number of iterations.\n",
            "  ConvergenceWarning,\n",
            "/usr/local/lib/python3.7/dist-packages/sklearn/svm/_base.py:1208: ConvergenceWarning: Liblinear failed to converge, increase the number of iterations.\n",
            "  ConvergenceWarning,\n",
            "/usr/local/lib/python3.7/dist-packages/sklearn/svm/_base.py:1208: ConvergenceWarning: Liblinear failed to converge, increase the number of iterations.\n",
            "  ConvergenceWarning,\n",
            "/usr/local/lib/python3.7/dist-packages/sklearn/svm/_base.py:1208: ConvergenceWarning: Liblinear failed to converge, increase the number of iterations.\n",
            "  ConvergenceWarning,\n",
            "/usr/local/lib/python3.7/dist-packages/sklearn/svm/_base.py:1208: ConvergenceWarning: Liblinear failed to converge, increase the number of iterations.\n",
            "  ConvergenceWarning,\n",
            "/usr/local/lib/python3.7/dist-packages/sklearn/svm/_base.py:1208: ConvergenceWarning: Liblinear failed to converge, increase the number of iterations.\n",
            "  ConvergenceWarning,\n",
            "/usr/local/lib/python3.7/dist-packages/sklearn/svm/_base.py:1208: ConvergenceWarning: Liblinear failed to converge, increase the number of iterations.\n",
            "  ConvergenceWarning,\n",
            "/usr/local/lib/python3.7/dist-packages/sklearn/svm/_base.py:1208: ConvergenceWarning: Liblinear failed to converge, increase the number of iterations.\n",
            "  ConvergenceWarning,\n",
            "/usr/local/lib/python3.7/dist-packages/sklearn/svm/_base.py:1208: ConvergenceWarning: Liblinear failed to converge, increase the number of iterations.\n",
            "  ConvergenceWarning,\n",
            "/usr/local/lib/python3.7/dist-packages/sklearn/svm/_base.py:1208: ConvergenceWarning: Liblinear failed to converge, increase the number of iterations.\n",
            "  ConvergenceWarning,\n"
          ]
        },
        {
          "name": "stdout",
          "output_type": "stream",
          "text": [
            "score of cv balanced: 0.7705769252745495\n",
            "score of tfidf balanced: 0.7841865603132702\n"
          ]
        }
      ],
      "source": [
        "#using Support vector machine\n",
        "lsvc=LinearSVC()\n",
        "metrics_cv = model_selection.cross_val_score(lsvc,train_cv,train_data['cat_cuisine'],cv = 10,scoring = 'accuracy')\n",
        "print(\"score of cv:\",metrics_cv.mean())\n",
        "metric_tfidf = model_selection.cross_val_score(lsvc,train_tfidf,train_data['cat_cuisine'],cv = 10,scoring = 'accuracy')\n",
        "print(\"score of tfidf:\",metric_tfidf.mean())\n",
        "metrics_cvbal = model_selection.cross_val_score(lsvc,x_undercv,y_undercv,cv = 10,scoring = 'accuracy')\n",
        "print(\"score of cv balanced:\",metrics_cvbal.mean())\n",
        "metric_tfidfbal = model_selection.cross_val_score(lsvc,x_undertfidf,y_undertfidf,cv = 10,scoring = 'accuracy')\n",
        "print(\"score of tfidf balanced:\",metric_tfidfbal.mean())"
      ]
    },
    {
      "cell_type": "code",
      "execution_count": null,
      "metadata": {
        "id": "bzeop9Inj-xf",
        "trusted": true
      },
      "outputs": [],
      "source": [
        "#metrics_cv = model_selection.cross_val_score(lsvc,train_cv,train_data['cat_cuisine'],cv = 10,scoring = 'f1_macro')\n",
        "#print(\"score of cv:\",metrics_cv.mean())"
      ]
    },
    {
      "cell_type": "code",
      "execution_count": null,
      "metadata": {
        "colab": {
          "base_uri": "https://localhost:8080/"
        },
        "id": "BJu4EvHVj-xf",
        "outputId": "3fa315a0-f448-4b57-9de3-b976e0eef8b2",
        "trusted": true
      },
      "outputs": [
        {
          "name": "stdout",
          "output_type": "stream",
          "text": [
            "score of cv: 0.6507264748674915\n",
            "score of tfidf: 0.7157939132920274\n",
            "score of cv balanced: 0.6403110227372286\n",
            "score of tfidf balanced: 0.7141622098803525\n"
          ]
        }
      ],
      "source": [
        "#Using KNN\n",
        "from sklearn.neighbors import KNeighborsClassifier\n",
        "knn = KNeighborsClassifier(n_neighbors=10)\n",
        "metrics_cv = model_selection.cross_val_score(knn,train_cv,train_data['cat_cuisine'],cv = 10,scoring = 'accuracy')\n",
        "print(\"score of cv:\",metrics_cv.mean())\n",
        "metric_tfidf = model_selection.cross_val_score(knn,train_tfidf,train_data['cat_cuisine'],cv = 10,scoring = 'accuracy')\n",
        "print(\"score of tfidf:\",metric_tfidf.mean())\n",
        "metrics_cvbal = model_selection.cross_val_score(knn,x_undercv,y_undercv,cv = 10,scoring = 'accuracy')\n",
        "print(\"score of cv balanced:\",metrics_cvbal.mean())\n",
        "metric_tfidfbal = model_selection.cross_val_score(knn,x_undertfidf,y_undertfidf,cv = 10,scoring = 'accuracy')\n",
        "print(\"score of tfidf balanced:\",metric_tfidfbal.mean())"
      ]
    },
    {
      "cell_type": "code",
      "execution_count": null,
      "metadata": {
        "id": "GBLqqZJdj-xf",
        "trusted": true
      },
      "outputs": [],
      "source": [
        "#logreg.fit(train_cv,train_data['cat_cuisine'])"
      ]
    },
    {
      "cell_type": "code",
      "execution_count": null,
      "metadata": {
        "id": "J_fDjxMoj-xf",
        "trusted": true
      },
      "outputs": [],
      "source": [
        "#y_predlogregcv=logreg.predict(test_cv)"
      ]
    },
    {
      "cell_type": "code",
      "execution_count": null,
      "metadata": {
        "id": "Dxiu0DZZj-xg",
        "trusted": true
      },
      "outputs": [],
      "source": [
        "#y_predlogregcv=le.inverse_transform(y_predlogregcv)"
      ]
    },
    {
      "cell_type": "code",
      "execution_count": null,
      "metadata": {
        "id": "rHDDR3M4j-xg",
        "trusted": true
      },
      "outputs": [],
      "source": [
        "lsvc.fit(train_tfidf,train_data['cat_cuisine'])\n",
        "y_predsvctf=lsvc.predict(test_tfidf)\n",
        "y_predsvctf=le.inverse_transform(y_predsvctf)"
      ]
    },
    {
      "cell_type": "code",
      "execution_count": null,
      "metadata": {
        "id": "YICHQTdXj-xg",
        "trusted": true
      },
      "outputs": [],
      "source": [
        "submission = pd.DataFrame({'Id':test_data['id'],'cuisine':y_predsvctf})\n",
        "submission.to_csv('submission.csv',index=False)"
      ]
    },
    {
      "cell_type": "code",
      "execution_count": null,
      "metadata": {
        "id": "MKWc0JN-j-xg",
        "trusted": true
      },
      "outputs": [],
      "source": [
        "## now trying to evaluate the model on train and valid data which we obtained using train and test\n",
        "#FOR Naive Bayes\n",
        "from sklearn.metrics import accuracy_score, confusion_matrix,classification_report\n",
        "from sklearn.metrics import confusion_matrix\n",
        "mnb.fit(x_traintf,y_traintf)\n",
        "y_predmnbtf=mnb.predict(x_validtf)\n",
        "mnb.fit(x_traincv,y_traincv)\n",
        "y_predmnbcv=mnb.predict(x_validcv)"
      ]
    },
    {
      "cell_type": "code",
      "execution_count": null,
      "metadata": {
        "colab": {
          "base_uri": "https://localhost:8080/"
        },
        "id": "QHHSTtMIj-xg",
        "outputId": "6dc9691f-a92e-446a-83b5-9ea3d70c55fd",
        "trusted": true
      },
      "outputs": [
        {
          "name": "stdout",
          "output_type": "stream",
          "text": [
            "report of Naivebyes with Tfidf:\n",
            "               precision    recall  f1-score   support\n",
            "\n",
            "           0       0.00      0.00      0.00        84\n",
            "           1       0.00      0.00      0.00       157\n",
            "           2       1.00      0.07      0.13       328\n",
            "           3       0.51      0.89      0.64       510\n",
            "           4       0.00      0.00      0.00       136\n",
            "           5       0.74      0.07      0.13       550\n",
            "           6       0.80      0.02      0.03       249\n",
            "           7       0.81      0.80      0.80       602\n",
            "           8       0.00      0.00      0.00       151\n",
            "           9       0.47      0.96      0.63      1567\n",
            "          10       0.00      0.00      0.00        91\n",
            "          11       1.00      0.25      0.40       284\n",
            "          12       1.00      0.03      0.06       166\n",
            "          13       0.67      0.92      0.77      1336\n",
            "          14       0.00      0.00      0.00       166\n",
            "          15       0.00      0.00      0.00        89\n",
            "          16       0.49      0.63      0.55       848\n",
            "          17       0.00      0.00      0.00       182\n",
            "          18       0.78      0.43      0.56       315\n",
            "          19       0.00      0.00      0.00       144\n",
            "\n",
            "    accuracy                           0.56      7955\n",
            "   macro avg       0.41      0.25      0.24      7955\n",
            "weighted avg       0.56      0.56      0.47      7955\n",
            "\n",
            "report of Naivebyes with Count Vec:\n",
            "               precision    recall  f1-score   support\n",
            "\n",
            "           0       0.60      0.32      0.42        84\n",
            "           1       0.50      0.29      0.36       157\n",
            "           2       0.63      0.74      0.68       328\n",
            "           3       0.66      0.90      0.76       510\n",
            "           4       0.74      0.24      0.36       136\n",
            "           5       0.51      0.56      0.54       550\n",
            "           6       0.70      0.56      0.62       249\n",
            "           7       0.82      0.87      0.84       602\n",
            "           8       0.73      0.18      0.29       151\n",
            "           9       0.80      0.83      0.81      1567\n",
            "          10       0.83      0.44      0.58        91\n",
            "          11       0.89      0.60      0.71       284\n",
            "          12       0.88      0.60      0.71       166\n",
            "          13       0.89      0.89      0.89      1336\n",
            "          14       0.79      0.72      0.75       166\n",
            "          15       0.67      0.22      0.34        89\n",
            "          16       0.53      0.73      0.62       848\n",
            "          17       0.57      0.41      0.47       182\n",
            "          18       0.72      0.80      0.75       315\n",
            "          19       0.68      0.42      0.52       144\n",
            "\n",
            "    accuracy                           0.72      7955\n",
            "   macro avg       0.71      0.56      0.60      7955\n",
            "weighted avg       0.73      0.72      0.71      7955\n",
            "\n"
          ]
        },
        {
          "name": "stderr",
          "output_type": "stream",
          "text": [
            "/usr/local/lib/python3.7/dist-packages/sklearn/metrics/_classification.py:1318: UndefinedMetricWarning: Precision and F-score are ill-defined and being set to 0.0 in labels with no predicted samples. Use `zero_division` parameter to control this behavior.\n",
            "  _warn_prf(average, modifier, msg_start, len(result))\n",
            "/usr/local/lib/python3.7/dist-packages/sklearn/metrics/_classification.py:1318: UndefinedMetricWarning: Precision and F-score are ill-defined and being set to 0.0 in labels with no predicted samples. Use `zero_division` parameter to control this behavior.\n",
            "  _warn_prf(average, modifier, msg_start, len(result))\n",
            "/usr/local/lib/python3.7/dist-packages/sklearn/metrics/_classification.py:1318: UndefinedMetricWarning: Precision and F-score are ill-defined and being set to 0.0 in labels with no predicted samples. Use `zero_division` parameter to control this behavior.\n",
            "  _warn_prf(average, modifier, msg_start, len(result))\n"
          ]
        }
      ],
      "source": [
        "predmnb_tf=classification_report(y_validtf, y_predmnbtf)\n",
        "predmnb_cv=classification_report(y_validcv, y_predmnbcv)\n",
        "print(\"report of Naivebyes with Tfidf:\\n\",predmnb_tf)\n",
        "print(\"report of Naivebyes with Count Vec:\\n\",predmnb_cv)"
      ]
    },
    {
      "cell_type": "code",
      "execution_count": null,
      "metadata": {
        "colab": {
          "base_uri": "https://localhost:8080/"
        },
        "id": "kRxCCB-6j-xg",
        "outputId": "c3d33a15-4dc8-4b47-f98d-0fe6de3804fc",
        "trusted": true
      },
      "outputs": [
        {
          "name": "stderr",
          "output_type": "stream",
          "text": [
            "/usr/local/lib/python3.7/dist-packages/sklearn/linear_model/_logistic.py:818: ConvergenceWarning: lbfgs failed to converge (status=1):\n",
            "STOP: TOTAL NO. of ITERATIONS REACHED LIMIT.\n",
            "\n",
            "Increase the number of iterations (max_iter) or scale the data as shown in:\n",
            "    https://scikit-learn.org/stable/modules/preprocessing.html\n",
            "Please also refer to the documentation for alternative solver options:\n",
            "    https://scikit-learn.org/stable/modules/linear_model.html#logistic-regression\n",
            "  extra_warning_msg=_LOGISTIC_SOLVER_CONVERGENCE_MSG,\n"
          ]
        },
        {
          "name": "stdout",
          "output_type": "stream",
          "text": [
            "report of Logistic Reg with Tfidf:\n",
            "               precision    recall  f1-score   support\n",
            "\n",
            "           0       0.80      0.46      0.59        84\n",
            "           1       0.68      0.31      0.42       157\n",
            "           2       0.83      0.67      0.74       328\n",
            "           3       0.74      0.88      0.81       510\n",
            "           4       0.77      0.41      0.54       136\n",
            "           5       0.61      0.65      0.63       550\n",
            "           6       0.81      0.59      0.69       249\n",
            "           7       0.86      0.90      0.88       602\n",
            "           8       0.68      0.36      0.47       151\n",
            "           9       0.77      0.92      0.84      1567\n",
            "          10       0.94      0.51      0.66        91\n",
            "          11       0.87      0.68      0.76       284\n",
            "          12       0.85      0.68      0.76       166\n",
            "          13       0.89      0.93      0.91      1336\n",
            "          14       0.89      0.69      0.78       166\n",
            "          15       0.75      0.34      0.47        89\n",
            "          16       0.64      0.80      0.71       848\n",
            "          17       0.72      0.42      0.53       182\n",
            "          18       0.81      0.75      0.78       315\n",
            "          19       0.67      0.47      0.55       144\n",
            "\n",
            "    accuracy                           0.77      7955\n",
            "   macro avg       0.78      0.62      0.67      7955\n",
            "weighted avg       0.78      0.77      0.76      7955\n",
            "\n",
            "report of Logistic Reg with Count Vec:\n",
            "               precision    recall  f1-score   support\n",
            "\n",
            "           0       0.75      0.61      0.67        84\n",
            "           1       0.59      0.44      0.51       157\n",
            "           2       0.76      0.64      0.69       328\n",
            "           3       0.79      0.84      0.81       510\n",
            "           4       0.68      0.57      0.62       136\n",
            "           5       0.60      0.64      0.62       550\n",
            "           6       0.74      0.71      0.72       249\n",
            "           7       0.87      0.87      0.87       602\n",
            "           8       0.60      0.48      0.54       151\n",
            "           9       0.81      0.88      0.84      1567\n",
            "          10       0.87      0.67      0.76        91\n",
            "          11       0.79      0.76      0.78       284\n",
            "          12       0.80      0.77      0.78       166\n",
            "          13       0.90      0.93      0.91      1336\n",
            "          14       0.81      0.74      0.78       166\n",
            "          15       0.49      0.45      0.47        89\n",
            "          16       0.70      0.76      0.73       848\n",
            "          17       0.63      0.49      0.55       182\n",
            "          18       0.81      0.73      0.77       315\n",
            "          19       0.64      0.57      0.60       144\n",
            "\n",
            "    accuracy                           0.78      7955\n",
            "   macro avg       0.73      0.68      0.70      7955\n",
            "weighted avg       0.78      0.78      0.78      7955\n",
            "\n"
          ]
        },
        {
          "name": "stderr",
          "output_type": "stream",
          "text": [
            "/usr/local/lib/python3.7/dist-packages/sklearn/linear_model/_logistic.py:818: ConvergenceWarning: lbfgs failed to converge (status=1):\n",
            "STOP: TOTAL NO. of ITERATIONS REACHED LIMIT.\n",
            "\n",
            "Increase the number of iterations (max_iter) or scale the data as shown in:\n",
            "    https://scikit-learn.org/stable/modules/preprocessing.html\n",
            "Please also refer to the documentation for alternative solver options:\n",
            "    https://scikit-learn.org/stable/modules/linear_model.html#logistic-regression\n",
            "  extra_warning_msg=_LOGISTIC_SOLVER_CONVERGENCE_MSG,\n"
          ]
        }
      ],
      "source": [
        "#FOR Logistic reg\n",
        "logreg.fit(x_traintf,y_traintf)\n",
        "y_predlogregtf=logreg.predict(x_validtf)\n",
        "logreg.fit(x_traincv,y_traincv)\n",
        "y_predlogregcv=logreg.predict(x_validcv)\n",
        "predlogreg_tf=classification_report(y_validtf, y_predlogregtf)\n",
        "predlogreg_cv=classification_report(y_validcv, y_predlogregcv)\n",
        "print(\"report of Logistic Reg with Tfidf:\\n\",predlogreg_tf)\n",
        "print(\"report of Logistic Reg with Count Vec:\\n\",predlogreg_cv)"
      ]
    },
    {
      "cell_type": "code",
      "execution_count": null,
      "metadata": {
        "colab": {
          "base_uri": "https://localhost:8080/"
        },
        "id": "dL_8TfLUj-xg",
        "outputId": "48df51ee-e7d7-4e13-9afa-fe68b2bb0417",
        "trusted": true
      },
      "outputs": [
        {
          "name": "stdout",
          "output_type": "stream",
          "text": [
            "report of Linear SVC with Tfidf:\n",
            "               precision    recall  f1-score   support\n",
            "\n",
            "           0       0.78      0.62      0.69        84\n",
            "           1       0.58      0.41      0.48       157\n",
            "           2       0.79      0.67      0.73       328\n",
            "           3       0.77      0.84      0.80       510\n",
            "           4       0.71      0.55      0.62       136\n",
            "           5       0.62      0.65      0.63       550\n",
            "           6       0.73      0.68      0.70       249\n",
            "           7       0.86      0.88      0.87       602\n",
            "           8       0.67      0.49      0.57       151\n",
            "           9       0.81      0.89      0.85      1567\n",
            "          10       0.86      0.70      0.78        91\n",
            "          11       0.80      0.74      0.77       284\n",
            "          12       0.84      0.74      0.79       166\n",
            "          13       0.90      0.94      0.92      1336\n",
            "          14       0.85      0.75      0.79       166\n",
            "          15       0.60      0.48      0.53        89\n",
            "          16       0.71      0.78      0.75       848\n",
            "          17       0.66      0.50      0.57       182\n",
            "          18       0.80      0.73      0.76       315\n",
            "          19       0.64      0.54      0.59       144\n",
            "\n",
            "    accuracy                           0.79      7955\n",
            "   macro avg       0.75      0.68      0.71      7955\n",
            "weighted avg       0.78      0.79      0.78      7955\n",
            "\n",
            "report of  Linear SVC with Count Vec:\n",
            "               precision    recall  f1-score   support\n",
            "\n",
            "           0       0.71      0.61      0.65        84\n",
            "           1       0.59      0.42      0.49       157\n",
            "           2       0.75      0.65      0.70       328\n",
            "           3       0.78      0.82      0.80       510\n",
            "           4       0.66      0.60      0.63       136\n",
            "           5       0.65      0.65      0.65       550\n",
            "           6       0.71      0.69      0.70       249\n",
            "           7       0.87      0.86      0.87       602\n",
            "           8       0.60      0.50      0.55       151\n",
            "           9       0.82      0.88      0.85      1567\n",
            "          10       0.78      0.73      0.75        91\n",
            "          11       0.78      0.71      0.75       284\n",
            "          12       0.77      0.78      0.77       166\n",
            "          13       0.90      0.92      0.91      1336\n",
            "          14       0.79      0.72      0.75       166\n",
            "          15       0.46      0.49      0.48        89\n",
            "          16       0.71      0.77      0.74       848\n",
            "          17       0.60      0.49      0.54       182\n",
            "          18       0.79      0.76      0.77       315\n",
            "          19       0.64      0.51      0.57       144\n",
            "\n",
            "    accuracy                           0.78      7955\n",
            "   macro avg       0.72      0.68      0.70      7955\n",
            "weighted avg       0.77      0.78      0.77      7955\n",
            "\n"
          ]
        },
        {
          "name": "stderr",
          "output_type": "stream",
          "text": [
            "/usr/local/lib/python3.7/dist-packages/sklearn/svm/_base.py:1208: ConvergenceWarning: Liblinear failed to converge, increase the number of iterations.\n",
            "  ConvergenceWarning,\n"
          ]
        }
      ],
      "source": [
        "#FOR Linear SVC\n",
        "lsvc.fit(x_traintf,y_traintf)\n",
        "y_predlsvctf=lsvc.predict(x_validtf)\n",
        "lsvc.fit(x_traincv,y_traincv)\n",
        "y_predlsvccv=lsvc.predict(x_validcv)\n",
        "predlsvc_tf=classification_report(y_validtf, y_predlsvctf)\n",
        "predlsvc_cv=classification_report(y_validcv, y_predlsvccv)\n",
        "print(\"report of Linear SVC with Tfidf:\\n\",predlsvc_tf)\n",
        "print(\"report of  Linear SVC with Count Vec:\\n\",predlsvc_cv)"
      ]
    },
    {
      "cell_type": "code",
      "execution_count": null,
      "metadata": {
        "colab": {
          "base_uri": "https://localhost:8080/"
        },
        "id": "Ql6QnCNEj-xh",
        "outputId": "35472783-b43a-42f4-df36-4ed9333a9d4d",
        "trusted": true
      },
      "outputs": [
        {
          "name": "stdout",
          "output_type": "stream",
          "text": [
            "report of knn with Tfidf:\n",
            "               precision    recall  f1-score   support\n",
            "\n",
            "           0       0.64      0.55      0.59        84\n",
            "           1       0.54      0.39      0.46       157\n",
            "           2       0.71      0.64      0.67       328\n",
            "           3       0.67      0.86      0.75       510\n",
            "           4       0.62      0.45      0.52       136\n",
            "           5       0.54      0.60      0.57       550\n",
            "           6       0.69      0.54      0.61       249\n",
            "           7       0.79      0.81      0.80       602\n",
            "           8       0.61      0.41      0.49       151\n",
            "           9       0.68      0.87      0.77      1567\n",
            "          10       0.81      0.47      0.60        91\n",
            "          11       0.78      0.58      0.67       284\n",
            "          12       0.78      0.70      0.74       166\n",
            "          13       0.84      0.86      0.85      1336\n",
            "          14       0.72      0.51      0.59       166\n",
            "          15       0.60      0.20      0.30        89\n",
            "          16       0.67      0.65      0.66       848\n",
            "          17       0.79      0.35      0.49       182\n",
            "          18       0.82      0.68      0.74       315\n",
            "          19       0.71      0.44      0.55       144\n",
            "\n",
            "    accuracy                           0.71      7955\n",
            "   macro avg       0.70      0.58      0.62      7955\n",
            "weighted avg       0.72      0.71      0.70      7955\n",
            "\n",
            "report of  knn with Count Vec:\n",
            "               precision    recall  f1-score   support\n",
            "\n",
            "           0       0.43      0.51      0.46        84\n",
            "           1       0.39      0.30      0.34       157\n",
            "           2       0.69      0.49      0.57       328\n",
            "           3       0.69      0.75      0.72       510\n",
            "           4       0.38      0.50      0.43       136\n",
            "           5       0.44      0.52      0.47       550\n",
            "           6       0.62      0.46      0.53       249\n",
            "           7       0.69      0.75      0.72       602\n",
            "           8       0.51      0.32      0.40       151\n",
            "           9       0.63      0.84      0.72      1567\n",
            "          10       0.67      0.34      0.45        91\n",
            "          11       0.60      0.55      0.58       284\n",
            "          12       0.68      0.56      0.62       166\n",
            "          13       0.79      0.81      0.80      1336\n",
            "          14       0.72      0.35      0.47       166\n",
            "          15       0.56      0.17      0.26        89\n",
            "          16       0.63      0.60      0.61       848\n",
            "          17       0.50      0.25      0.33       182\n",
            "          18       0.86      0.48      0.62       315\n",
            "          19       0.55      0.33      0.42       144\n",
            "\n",
            "    accuracy                           0.64      7955\n",
            "   macro avg       0.60      0.49      0.53      7955\n",
            "weighted avg       0.65      0.64      0.63      7955\n",
            "\n"
          ]
        }
      ],
      "source": [
        "#FOR Linear knn\n",
        "knn.fit(x_traintf,y_traintf)\n",
        "y_predknntf=knn.predict(x_validtf)\n",
        "knn.fit(x_traincv,y_traincv)\n",
        "y_predknncv=knn.predict(x_validcv)\n",
        "predknn_tf=classification_report(y_validtf, y_predknntf)\n",
        "predknn_cv=classification_report(y_validcv, y_predknncv)\n",
        "print(\"report of knn with Tfidf:\\n\",predknn_tf)\n",
        "print(\"report of  knn with Count Vec:\\n\",predknn_cv)"
      ]
    },
    {
      "cell_type": "code",
      "execution_count": null,
      "metadata": {
        "id": "DXNvpYk2j-xh"
      },
      "outputs": [],
      "source": []
    }
  ],
  "metadata": {
    "colab": {
      "collapsed_sections": [],
      "name": "whatscooking.ipynb",
      "provenance": []
    },
    "kernelspec": {
      "display_name": "Python 3.10.1 64-bit",
      "language": "python",
      "name": "python3"
    },
    "language_info": {
      "codemirror_mode": {
        "name": "ipython",
        "version": 3
      },
      "file_extension": ".py",
      "mimetype": "text/x-python",
      "name": "python",
      "nbconvert_exporter": "python",
      "pygments_lexer": "ipython3",
      "version": "3.10.1"
    },
    "vscode": {
      "interpreter": {
        "hash": "49be0200ac5650ed46dc9f7d98014762d2be7eaf5f865d9ffd65ca48838819c2"
      }
    }
  },
  "nbformat": 4,
  "nbformat_minor": 0
}
